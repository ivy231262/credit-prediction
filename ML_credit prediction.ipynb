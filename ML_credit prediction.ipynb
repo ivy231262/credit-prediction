{
 "cells": [
  {
   "cell_type": "markdown",
   "metadata": {},
   "source": [
    "<h1><center> Phase II Model Building - Credit Prediction </center></h1>\n",
    "<center>  Wei-Ting Lin (Ivy) - s3698773 </center>\n",
    "<center> 2019-06-09</center>\n",
    "\n",
    "--- \n",
    "\n",
    "# Overview\n",
    "\n",
    "The objective of Phase II Model Building is to find the best machine learning model to predict credit quality \n",
    "using German credit data set, sourced from the UCI Machine Learning Repository (Hofmann H., 1994). \n",
    "\n",
    "The report is organized as follows:\n",
    "* Methodology \n",
    "* Data Preparation \n",
    "* Model Selection & Evaluation Strategy\n",
    "* Hyperparameter Tuning\n",
    "* Performance Evaluation\n",
    "* Limitations \n",
    "* Conclusion\n",
    "\n",
    "\n",
    "## Methodology\n",
    "\n",
    "We will use the powerful scikit-learn Python package for modelling task. The following binary classifiers are selected to predict the target feature: K-Nearest Neighbors (KNN), Decision trees (DT) and Naive Bayes (NB). \n",
    "\n",
    "First of all, we load the full dataset cleaned from Phase I, and also make sure there is no missing value in the data set, since most machine learning algorithms cannot handle missing values. \n",
    "\n",
    "Our modelling strategy begins with transformation. This transformation includes encoding categorical descriptive features into numeric and then scale the descriptive features. We split the data set into training and test sets with a 70:30 ratio. Before model fitting, we select the best features using the Random Forest Importance method inside a pipeline. We consider 10, 20, 30 and the full set of features (with 59 features) after encoding of categorical features.\n",
    "\n",
    "Since this credit dataset requires the use of a cost matrix, we implement a customized cost score function for our performance metrics. Using feature selection together with hyperparameter search inside a single pipeline, we conduct a 5-fold stratified cross-validation to fine-tune hyperparameters of each classifier using the pre-defined `cost_score` function.\n",
    "\n",
    "We build each model using parallel processing. Once the best model is identified for each of the three classifiers, we conduct a 10-fold cross-validation on the test data and perform a pair-wised t-test to see if the difference in the performance is statistically significant. Also, we compare the classifiers with their precision scores on the test data. \n"
   ]
  },
  {
   "cell_type": "markdown",
   "metadata": {},
   "source": [
    "# Data Preparation"
   ]
  },
  {
   "cell_type": "markdown",
   "metadata": {},
   "source": [
    "###  Loading Data and Libararies"
   ]
  },
  {
   "cell_type": "code",
   "execution_count": 1,
   "metadata": {},
   "outputs": [],
   "source": [
    "import numpy as np \n",
    "import pandas as pd\n",
    "import matplotlib.pyplot as plt\n",
    "from IPython.display import display, HTML\n",
    "import matplotlib.pyplot as plt\n",
    "import seaborn as sns"
   ]
  },
  {
   "cell_type": "code",
   "execution_count": 2,
   "metadata": {},
   "outputs": [],
   "source": [
    "credit = pd.read_csv('german.data', sep = ' ')"
   ]
  },
  {
   "cell_type": "code",
   "execution_count": 3,
   "metadata": {},
   "outputs": [],
   "source": [
    "credit.columns = ['status_of_existing_checking_account', 'duration_month', 'credit_history', 'purpose',\n",
    "                  'credit_amount','savings_account','present_employment_since','IRPDI','personal_status_and_sex',\n",
    "                 'other_debtors','present_residence_since','property', 'age', 'other_installment_plans',\n",
    "                  'housing','number_of_existing_credits','job','liable_ppl_num','telephone','foreign_worker',\n",
    "                  'credit_classification']"
   ]
  },
  {
   "cell_type": "code",
   "execution_count": 4,
   "metadata": {},
   "outputs": [
    {
     "data": {
      "text/html": [
       "<div>\n",
       "<style scoped>\n",
       "    .dataframe tbody tr th:only-of-type {\n",
       "        vertical-align: middle;\n",
       "    }\n",
       "\n",
       "    .dataframe tbody tr th {\n",
       "        vertical-align: top;\n",
       "    }\n",
       "\n",
       "    .dataframe thead th {\n",
       "        text-align: right;\n",
       "    }\n",
       "</style>\n",
       "<table border=\"1\" class=\"dataframe\">\n",
       "  <thead>\n",
       "    <tr style=\"text-align: right;\">\n",
       "      <th></th>\n",
       "      <th>status_of_existing_checking_account</th>\n",
       "      <th>duration_month</th>\n",
       "      <th>credit_history</th>\n",
       "      <th>purpose</th>\n",
       "      <th>credit_amount</th>\n",
       "      <th>savings_account</th>\n",
       "      <th>present_employment_since</th>\n",
       "      <th>IRPDI</th>\n",
       "      <th>personal_status_and_sex</th>\n",
       "      <th>other_debtors</th>\n",
       "      <th>...</th>\n",
       "      <th>property</th>\n",
       "      <th>age</th>\n",
       "      <th>other_installment_plans</th>\n",
       "      <th>housing</th>\n",
       "      <th>number_of_existing_credits</th>\n",
       "      <th>job</th>\n",
       "      <th>liable_ppl_num</th>\n",
       "      <th>telephone</th>\n",
       "      <th>foreign_worker</th>\n",
       "      <th>credit_classification</th>\n",
       "    </tr>\n",
       "  </thead>\n",
       "  <tbody>\n",
       "    <tr>\n",
       "      <th>0</th>\n",
       "      <td>A12</td>\n",
       "      <td>48</td>\n",
       "      <td>A32</td>\n",
       "      <td>A43</td>\n",
       "      <td>5951</td>\n",
       "      <td>A61</td>\n",
       "      <td>A73</td>\n",
       "      <td>2</td>\n",
       "      <td>A92</td>\n",
       "      <td>A101</td>\n",
       "      <td>...</td>\n",
       "      <td>A121</td>\n",
       "      <td>22</td>\n",
       "      <td>A143</td>\n",
       "      <td>A152</td>\n",
       "      <td>1</td>\n",
       "      <td>A173</td>\n",
       "      <td>1</td>\n",
       "      <td>A191</td>\n",
       "      <td>A201</td>\n",
       "      <td>2</td>\n",
       "    </tr>\n",
       "    <tr>\n",
       "      <th>1</th>\n",
       "      <td>A14</td>\n",
       "      <td>12</td>\n",
       "      <td>A34</td>\n",
       "      <td>A46</td>\n",
       "      <td>2096</td>\n",
       "      <td>A61</td>\n",
       "      <td>A74</td>\n",
       "      <td>2</td>\n",
       "      <td>A93</td>\n",
       "      <td>A101</td>\n",
       "      <td>...</td>\n",
       "      <td>A121</td>\n",
       "      <td>49</td>\n",
       "      <td>A143</td>\n",
       "      <td>A152</td>\n",
       "      <td>1</td>\n",
       "      <td>A172</td>\n",
       "      <td>2</td>\n",
       "      <td>A191</td>\n",
       "      <td>A201</td>\n",
       "      <td>1</td>\n",
       "    </tr>\n",
       "    <tr>\n",
       "      <th>2</th>\n",
       "      <td>A11</td>\n",
       "      <td>42</td>\n",
       "      <td>A32</td>\n",
       "      <td>A42</td>\n",
       "      <td>7882</td>\n",
       "      <td>A61</td>\n",
       "      <td>A74</td>\n",
       "      <td>2</td>\n",
       "      <td>A93</td>\n",
       "      <td>A103</td>\n",
       "      <td>...</td>\n",
       "      <td>A122</td>\n",
       "      <td>45</td>\n",
       "      <td>A143</td>\n",
       "      <td>A153</td>\n",
       "      <td>1</td>\n",
       "      <td>A173</td>\n",
       "      <td>2</td>\n",
       "      <td>A191</td>\n",
       "      <td>A201</td>\n",
       "      <td>1</td>\n",
       "    </tr>\n",
       "    <tr>\n",
       "      <th>3</th>\n",
       "      <td>A11</td>\n",
       "      <td>24</td>\n",
       "      <td>A33</td>\n",
       "      <td>A40</td>\n",
       "      <td>4870</td>\n",
       "      <td>A61</td>\n",
       "      <td>A73</td>\n",
       "      <td>3</td>\n",
       "      <td>A93</td>\n",
       "      <td>A101</td>\n",
       "      <td>...</td>\n",
       "      <td>A124</td>\n",
       "      <td>53</td>\n",
       "      <td>A143</td>\n",
       "      <td>A153</td>\n",
       "      <td>2</td>\n",
       "      <td>A173</td>\n",
       "      <td>2</td>\n",
       "      <td>A191</td>\n",
       "      <td>A201</td>\n",
       "      <td>2</td>\n",
       "    </tr>\n",
       "    <tr>\n",
       "      <th>4</th>\n",
       "      <td>A14</td>\n",
       "      <td>36</td>\n",
       "      <td>A32</td>\n",
       "      <td>A46</td>\n",
       "      <td>9055</td>\n",
       "      <td>A65</td>\n",
       "      <td>A73</td>\n",
       "      <td>2</td>\n",
       "      <td>A93</td>\n",
       "      <td>A101</td>\n",
       "      <td>...</td>\n",
       "      <td>A124</td>\n",
       "      <td>35</td>\n",
       "      <td>A143</td>\n",
       "      <td>A153</td>\n",
       "      <td>1</td>\n",
       "      <td>A172</td>\n",
       "      <td>2</td>\n",
       "      <td>A192</td>\n",
       "      <td>A201</td>\n",
       "      <td>1</td>\n",
       "    </tr>\n",
       "  </tbody>\n",
       "</table>\n",
       "<p>5 rows × 21 columns</p>\n",
       "</div>"
      ],
      "text/plain": [
       "  status_of_existing_checking_account  duration_month credit_history purpose  \\\n",
       "0                                 A12              48            A32     A43   \n",
       "1                                 A14              12            A34     A46   \n",
       "2                                 A11              42            A32     A42   \n",
       "3                                 A11              24            A33     A40   \n",
       "4                                 A14              36            A32     A46   \n",
       "\n",
       "   credit_amount savings_account present_employment_since  IRPDI  \\\n",
       "0           5951             A61                      A73      2   \n",
       "1           2096             A61                      A74      2   \n",
       "2           7882             A61                      A74      2   \n",
       "3           4870             A61                      A73      3   \n",
       "4           9055             A65                      A73      2   \n",
       "\n",
       "  personal_status_and_sex other_debtors  ...  property age  \\\n",
       "0                     A92          A101  ...      A121  22   \n",
       "1                     A93          A101  ...      A121  49   \n",
       "2                     A93          A103  ...      A122  45   \n",
       "3                     A93          A101  ...      A124  53   \n",
       "4                     A93          A101  ...      A124  35   \n",
       "\n",
       "   other_installment_plans housing number_of_existing_credits   job  \\\n",
       "0                     A143    A152                          1  A173   \n",
       "1                     A143    A152                          1  A172   \n",
       "2                     A143    A153                          1  A173   \n",
       "3                     A143    A153                          2  A173   \n",
       "4                     A143    A153                          1  A172   \n",
       "\n",
       "  liable_ppl_num  telephone foreign_worker credit_classification  \n",
       "0              1       A191           A201                     2  \n",
       "1              2       A191           A201                     1  \n",
       "2              2       A191           A201                     1  \n",
       "3              2       A191           A201                     2  \n",
       "4              2       A192           A201                     1  \n",
       "\n",
       "[5 rows x 21 columns]"
      ]
     },
     "execution_count": 4,
     "metadata": {},
     "output_type": "execute_result"
    }
   ],
   "source": [
    "credit.head()"
   ]
  },
  {
   "cell_type": "code",
   "execution_count": 5,
   "metadata": {},
   "outputs": [
    {
     "data": {
      "text/plain": [
       "(999, 21)"
      ]
     },
     "execution_count": 5,
     "metadata": {},
     "output_type": "execute_result"
    }
   ],
   "source": [
    "#check the shape of data \n",
    "credit.shape"
   ]
  },
  {
   "cell_type": "markdown",
   "metadata": {},
   "source": [
    "The dataset contains 21 variables and 999 observations."
   ]
  },
  {
   "cell_type": "code",
   "execution_count": 6,
   "metadata": {
    "scrolled": true
   },
   "outputs": [
    {
     "data": {
      "text/plain": [
       "status_of_existing_checking_account    object\n",
       "duration_month                          int64\n",
       "credit_history                         object\n",
       "purpose                                object\n",
       "credit_amount                           int64\n",
       "savings_account                        object\n",
       "present_employment_since               object\n",
       "IRPDI                                   int64\n",
       "personal_status_and_sex                object\n",
       "other_debtors                          object\n",
       "present_residence_since                 int64\n",
       "property                               object\n",
       "age                                     int64\n",
       "other_installment_plans                object\n",
       "housing                                object\n",
       "number_of_existing_credits              int64\n",
       "job                                    object\n",
       "liable_ppl_num                          int64\n",
       "telephone                              object\n",
       "foreign_worker                         object\n",
       "credit_classification                   int64\n",
       "dtype: object"
      ]
     },
     "execution_count": 6,
     "metadata": {},
     "output_type": "execute_result"
    }
   ],
   "source": [
    "# check the data type. \n",
    "credit.dtypes"
   ]
  },
  {
   "cell_type": "markdown",
   "metadata": {},
   "source": [
    "The data set contains 13 objects, 7 numerical features with 1 binary target variable. "
   ]
  },
  {
   "cell_type": "markdown",
   "metadata": {},
   "source": [
    "## Check for Missing Value"
   ]
  },
  {
   "cell_type": "markdown",
   "metadata": {},
   "source": [
    "There is no missing value in this data set. "
   ]
  },
  {
   "cell_type": "code",
   "execution_count": 7,
   "metadata": {},
   "outputs": [
    {
     "data": {
      "text/plain": [
       "status_of_existing_checking_account    0\n",
       "duration_month                         0\n",
       "credit_history                         0\n",
       "purpose                                0\n",
       "credit_amount                          0\n",
       "savings_account                        0\n",
       "present_employment_since               0\n",
       "IRPDI                                  0\n",
       "personal_status_and_sex                0\n",
       "other_debtors                          0\n",
       "present_residence_since                0\n",
       "property                               0\n",
       "age                                    0\n",
       "other_installment_plans                0\n",
       "housing                                0\n",
       "number_of_existing_credits             0\n",
       "job                                    0\n",
       "liable_ppl_num                         0\n",
       "telephone                              0\n",
       "foreign_worker                         0\n",
       "credit_classification                  0\n",
       "dtype: int64"
      ]
     },
     "execution_count": 7,
     "metadata": {},
     "output_type": "execute_result"
    }
   ],
   "source": [
    "#check for missing value \n",
    "credit.isnull().sum()"
   ]
  },
  {
   "cell_type": "markdown",
   "metadata": {},
   "source": [
    "## Statistical Summary"
   ]
  },
  {
   "cell_type": "markdown",
   "metadata": {},
   "source": [
    "According to Table 1, there's no `NaN` or extreme values. "
   ]
  },
  {
   "cell_type": "code",
   "execution_count": 8,
   "metadata": {},
   "outputs": [
    {
     "data": {
      "text/html": [
       "<b>Table 1: Summary of continuous features</b>"
      ],
      "text/plain": [
       "<IPython.core.display.HTML object>"
      ]
     },
     "metadata": {},
     "output_type": "display_data"
    },
    {
     "data": {
      "text/html": [
       "<div>\n",
       "<style scoped>\n",
       "    .dataframe tbody tr th:only-of-type {\n",
       "        vertical-align: middle;\n",
       "    }\n",
       "\n",
       "    .dataframe tbody tr th {\n",
       "        vertical-align: top;\n",
       "    }\n",
       "\n",
       "    .dataframe thead th {\n",
       "        text-align: right;\n",
       "    }\n",
       "</style>\n",
       "<table border=\"1\" class=\"dataframe\">\n",
       "  <thead>\n",
       "    <tr style=\"text-align: right;\">\n",
       "      <th></th>\n",
       "      <th>duration_month</th>\n",
       "      <th>credit_amount</th>\n",
       "      <th>IRPDI</th>\n",
       "      <th>present_residence_since</th>\n",
       "      <th>age</th>\n",
       "      <th>number_of_existing_credits</th>\n",
       "      <th>liable_ppl_num</th>\n",
       "      <th>credit_classification</th>\n",
       "    </tr>\n",
       "  </thead>\n",
       "  <tbody>\n",
       "    <tr>\n",
       "      <th>count</th>\n",
       "      <td>999.000000</td>\n",
       "      <td>999.000000</td>\n",
       "      <td>999.000000</td>\n",
       "      <td>999.000000</td>\n",
       "      <td>999.000000</td>\n",
       "      <td>999.000000</td>\n",
       "      <td>999.000000</td>\n",
       "      <td>999.000000</td>\n",
       "    </tr>\n",
       "    <tr>\n",
       "      <th>mean</th>\n",
       "      <td>20.917918</td>\n",
       "      <td>3273.362362</td>\n",
       "      <td>2.971972</td>\n",
       "      <td>2.843844</td>\n",
       "      <td>35.514515</td>\n",
       "      <td>1.406406</td>\n",
       "      <td>1.155155</td>\n",
       "      <td>1.300300</td>\n",
       "    </tr>\n",
       "    <tr>\n",
       "      <th>std</th>\n",
       "      <td>12.055619</td>\n",
       "      <td>2823.365811</td>\n",
       "      <td>1.118802</td>\n",
       "      <td>1.103665</td>\n",
       "      <td>11.337487</td>\n",
       "      <td>0.577639</td>\n",
       "      <td>0.362234</td>\n",
       "      <td>0.458618</td>\n",
       "    </tr>\n",
       "    <tr>\n",
       "      <th>min</th>\n",
       "      <td>4.000000</td>\n",
       "      <td>250.000000</td>\n",
       "      <td>1.000000</td>\n",
       "      <td>1.000000</td>\n",
       "      <td>19.000000</td>\n",
       "      <td>1.000000</td>\n",
       "      <td>1.000000</td>\n",
       "      <td>1.000000</td>\n",
       "    </tr>\n",
       "    <tr>\n",
       "      <th>25%</th>\n",
       "      <td>12.000000</td>\n",
       "      <td>1368.500000</td>\n",
       "      <td>2.000000</td>\n",
       "      <td>2.000000</td>\n",
       "      <td>27.000000</td>\n",
       "      <td>1.000000</td>\n",
       "      <td>1.000000</td>\n",
       "      <td>1.000000</td>\n",
       "    </tr>\n",
       "    <tr>\n",
       "      <th>50%</th>\n",
       "      <td>18.000000</td>\n",
       "      <td>2320.000000</td>\n",
       "      <td>3.000000</td>\n",
       "      <td>3.000000</td>\n",
       "      <td>33.000000</td>\n",
       "      <td>1.000000</td>\n",
       "      <td>1.000000</td>\n",
       "      <td>1.000000</td>\n",
       "    </tr>\n",
       "    <tr>\n",
       "      <th>75%</th>\n",
       "      <td>24.000000</td>\n",
       "      <td>3972.500000</td>\n",
       "      <td>4.000000</td>\n",
       "      <td>4.000000</td>\n",
       "      <td>42.000000</td>\n",
       "      <td>2.000000</td>\n",
       "      <td>1.000000</td>\n",
       "      <td>2.000000</td>\n",
       "    </tr>\n",
       "    <tr>\n",
       "      <th>max</th>\n",
       "      <td>72.000000</td>\n",
       "      <td>18424.000000</td>\n",
       "      <td>4.000000</td>\n",
       "      <td>4.000000</td>\n",
       "      <td>75.000000</td>\n",
       "      <td>4.000000</td>\n",
       "      <td>2.000000</td>\n",
       "      <td>2.000000</td>\n",
       "    </tr>\n",
       "  </tbody>\n",
       "</table>\n",
       "</div>"
      ],
      "text/plain": [
       "       duration_month  credit_amount       IRPDI  present_residence_since  \\\n",
       "count      999.000000     999.000000  999.000000               999.000000   \n",
       "mean        20.917918    3273.362362    2.971972                 2.843844   \n",
       "std         12.055619    2823.365811    1.118802                 1.103665   \n",
       "min          4.000000     250.000000    1.000000                 1.000000   \n",
       "25%         12.000000    1368.500000    2.000000                 2.000000   \n",
       "50%         18.000000    2320.000000    3.000000                 3.000000   \n",
       "75%         24.000000    3972.500000    4.000000                 4.000000   \n",
       "max         72.000000   18424.000000    4.000000                 4.000000   \n",
       "\n",
       "              age  number_of_existing_credits  liable_ppl_num  \\\n",
       "count  999.000000                  999.000000      999.000000   \n",
       "mean    35.514515                    1.406406        1.155155   \n",
       "std     11.337487                    0.577639        0.362234   \n",
       "min     19.000000                    1.000000        1.000000   \n",
       "25%     27.000000                    1.000000        1.000000   \n",
       "50%     33.000000                    1.000000        1.000000   \n",
       "75%     42.000000                    2.000000        1.000000   \n",
       "max     75.000000                    4.000000        2.000000   \n",
       "\n",
       "       credit_classification  \n",
       "count             999.000000  \n",
       "mean                1.300300  \n",
       "std                 0.458618  \n",
       "min                 1.000000  \n",
       "25%                 1.000000  \n",
       "50%                 1.000000  \n",
       "75%                 2.000000  \n",
       "max                 2.000000  "
      ]
     },
     "metadata": {},
     "output_type": "display_data"
    },
    {
     "data": {
      "text/html": [
       "<b>Table 2: Summary of categorical features</b>"
      ],
      "text/plain": [
       "<IPython.core.display.HTML object>"
      ]
     },
     "metadata": {},
     "output_type": "display_data"
    },
    {
     "data": {
      "text/html": [
       "<div>\n",
       "<style scoped>\n",
       "    .dataframe tbody tr th:only-of-type {\n",
       "        vertical-align: middle;\n",
       "    }\n",
       "\n",
       "    .dataframe tbody tr th {\n",
       "        vertical-align: top;\n",
       "    }\n",
       "\n",
       "    .dataframe thead th {\n",
       "        text-align: right;\n",
       "    }\n",
       "</style>\n",
       "<table border=\"1\" class=\"dataframe\">\n",
       "  <thead>\n",
       "    <tr style=\"text-align: right;\">\n",
       "      <th></th>\n",
       "      <th>status_of_existing_checking_account</th>\n",
       "      <th>credit_history</th>\n",
       "      <th>purpose</th>\n",
       "      <th>savings_account</th>\n",
       "      <th>present_employment_since</th>\n",
       "      <th>personal_status_and_sex</th>\n",
       "      <th>other_debtors</th>\n",
       "      <th>property</th>\n",
       "      <th>other_installment_plans</th>\n",
       "      <th>housing</th>\n",
       "      <th>job</th>\n",
       "      <th>telephone</th>\n",
       "      <th>foreign_worker</th>\n",
       "    </tr>\n",
       "  </thead>\n",
       "  <tbody>\n",
       "    <tr>\n",
       "      <th>count</th>\n",
       "      <td>999</td>\n",
       "      <td>999</td>\n",
       "      <td>999</td>\n",
       "      <td>999</td>\n",
       "      <td>999</td>\n",
       "      <td>999</td>\n",
       "      <td>999</td>\n",
       "      <td>999</td>\n",
       "      <td>999</td>\n",
       "      <td>999</td>\n",
       "      <td>999</td>\n",
       "      <td>999</td>\n",
       "      <td>999</td>\n",
       "    </tr>\n",
       "    <tr>\n",
       "      <th>unique</th>\n",
       "      <td>4</td>\n",
       "      <td>5</td>\n",
       "      <td>10</td>\n",
       "      <td>5</td>\n",
       "      <td>5</td>\n",
       "      <td>4</td>\n",
       "      <td>3</td>\n",
       "      <td>4</td>\n",
       "      <td>3</td>\n",
       "      <td>3</td>\n",
       "      <td>4</td>\n",
       "      <td>2</td>\n",
       "      <td>2</td>\n",
       "    </tr>\n",
       "    <tr>\n",
       "      <th>top</th>\n",
       "      <td>A14</td>\n",
       "      <td>A32</td>\n",
       "      <td>A43</td>\n",
       "      <td>A61</td>\n",
       "      <td>A73</td>\n",
       "      <td>A93</td>\n",
       "      <td>A101</td>\n",
       "      <td>A123</td>\n",
       "      <td>A143</td>\n",
       "      <td>A152</td>\n",
       "      <td>A173</td>\n",
       "      <td>A191</td>\n",
       "      <td>A201</td>\n",
       "    </tr>\n",
       "    <tr>\n",
       "      <th>freq</th>\n",
       "      <td>394</td>\n",
       "      <td>530</td>\n",
       "      <td>279</td>\n",
       "      <td>603</td>\n",
       "      <td>339</td>\n",
       "      <td>547</td>\n",
       "      <td>906</td>\n",
       "      <td>332</td>\n",
       "      <td>813</td>\n",
       "      <td>712</td>\n",
       "      <td>629</td>\n",
       "      <td>596</td>\n",
       "      <td>962</td>\n",
       "    </tr>\n",
       "  </tbody>\n",
       "</table>\n",
       "</div>"
      ],
      "text/plain": [
       "       status_of_existing_checking_account credit_history purpose  \\\n",
       "count                                  999            999     999   \n",
       "unique                                   4              5      10   \n",
       "top                                    A14            A32     A43   \n",
       "freq                                   394            530     279   \n",
       "\n",
       "       savings_account present_employment_since personal_status_and_sex  \\\n",
       "count              999                      999                     999   \n",
       "unique               5                        5                       4   \n",
       "top                A61                      A73                     A93   \n",
       "freq               603                      339                     547   \n",
       "\n",
       "       other_debtors property other_installment_plans housing   job telephone  \\\n",
       "count            999      999                     999     999   999       999   \n",
       "unique             3        4                       3       3     4         2   \n",
       "top             A101     A123                    A143    A152  A173      A191   \n",
       "freq             906      332                     813     712   629       596   \n",
       "\n",
       "       foreign_worker  \n",
       "count             999  \n",
       "unique              2  \n",
       "top              A201  \n",
       "freq              962  "
      ]
     },
     "metadata": {},
     "output_type": "display_data"
    }
   ],
   "source": [
    "# statistical summury of the data \n",
    "display(HTML('<b>Table 1: Summary of continuous features</b>')) \n",
    "display(credit.describe(include = 'int'))\n",
    "display(HTML('<b>Table 2: Summary of categorical features</b>'))\n",
    "display(credit.describe(include = 'object'))"
   ]
  },
  {
   "cell_type": "markdown",
   "metadata": {},
   "source": [
    "## Encode Categorical Features \n",
    "Here, we encode all categorical features before modelling into a set of numerical features."
   ]
  },
  {
   "cell_type": "markdown",
   "metadata": {},
   "source": [
    "### Encoding the Target Feature\n",
    "For the ease of modelling task, The target feature: \"credit_classification\" was set independent from the full dataset and call it \"target\". The rest of the descriptive features are assign to \"Data_unscaled\", as we will scale the it later."
   ]
  },
  {
   "cell_type": "code",
   "execution_count": 9,
   "metadata": {},
   "outputs": [],
   "source": [
    "Data = credit.drop(columns = 'credit_classification')\n",
    "\n",
    "target = credit['credit_classification']\n"
   ]
  },
  {
   "cell_type": "markdown",
   "metadata": {},
   "source": [
    "First of all, let's tally the instances in target variable.\n",
    "* According to the data data set: 1 = Good, 2 = Bad credit. \n",
    "* We have 699 good credit and 300 bad credit. The portion is slightly inbalance, but it shouldn't be a big problem. "
   ]
  },
  {
   "cell_type": "code",
   "execution_count": 10,
   "metadata": {
    "scrolled": true
   },
   "outputs": [
    {
     "data": {
      "text/plain": [
       "1    699\n",
       "2    300\n",
       "Name: credit_classification, dtype: int64"
      ]
     },
     "execution_count": 10,
     "metadata": {},
     "output_type": "execute_result"
    }
   ],
   "source": [
    "target.value_counts()"
   ]
  },
  {
   "cell_type": "markdown",
   "metadata": {},
   "source": [
    "For later model evaluation,we need the positive instance to be encoded as 1 and the negative one to be encoded as 0 for binary classification. "
   ]
  },
  {
   "cell_type": "code",
   "execution_count": 11,
   "metadata": {},
   "outputs": [
    {
     "data": {
      "text/plain": [
       "(array([0, 1]), array([300, 699]))"
      ]
     },
     "execution_count": 11,
     "metadata": {},
     "output_type": "execute_result"
    }
   ],
   "source": [
    "target = pd.Series(target).replace({2: 0}).values\n",
    "np.unique(target, return_counts = True)"
   ]
  },
  {
   "cell_type": "markdown",
   "metadata": {},
   "source": [
    "### Encoding Descriptive Features"
   ]
  },
  {
   "cell_type": "markdown",
   "metadata": {},
   "source": [
    "#### Nominal descriptive features in this data set are : \n",
    "* status_of_existing_checking_account\n",
    "* credit_history\n",
    "* purpose\n",
    "* Savings account/bonds\n",
    "* personal_status_and_sex\n",
    "* other_debtors\n",
    "* other_installment_plans\n",
    "* housing\n",
    "* job\n",
    "* telephone\n",
    "* foreign_worker\n",
    "\n",
    "#### Ordinal descriptive features in this data set are : \n",
    "* present_employment_since\n",
    "* property\n",
    "\n",
    "###  Encode categorical descriptive features using One-Hot-Encoding\n",
    "Since there are only 2 ordinal features,it would not make much difference if we use integer encoding for ordinal features separately in terms of dimension. Let's just use One-Hot-Encoding for all the categorial descriptive features. "
   ]
  },
  {
   "cell_type": "code",
   "execution_count": 12,
   "metadata": {
    "scrolled": true
   },
   "outputs": [
    {
     "data": {
      "text/html": [
       "<div>\n",
       "<style scoped>\n",
       "    .dataframe tbody tr th:only-of-type {\n",
       "        vertical-align: middle;\n",
       "    }\n",
       "\n",
       "    .dataframe tbody tr th {\n",
       "        vertical-align: top;\n",
       "    }\n",
       "\n",
       "    .dataframe thead th {\n",
       "        text-align: right;\n",
       "    }\n",
       "</style>\n",
       "<table border=\"1\" class=\"dataframe\">\n",
       "  <thead>\n",
       "    <tr style=\"text-align: right;\">\n",
       "      <th></th>\n",
       "      <th>duration_month</th>\n",
       "      <th>credit_amount</th>\n",
       "      <th>IRPDI</th>\n",
       "      <th>present_residence_since</th>\n",
       "      <th>age</th>\n",
       "      <th>number_of_existing_credits</th>\n",
       "      <th>liable_ppl_num</th>\n",
       "      <th>telephone</th>\n",
       "      <th>foreign_worker</th>\n",
       "      <th>status_of_existing_checking_account_A11</th>\n",
       "      <th>...</th>\n",
       "      <th>other_installment_plans_A141</th>\n",
       "      <th>other_installment_plans_A142</th>\n",
       "      <th>other_installment_plans_A143</th>\n",
       "      <th>housing_A151</th>\n",
       "      <th>housing_A152</th>\n",
       "      <th>housing_A153</th>\n",
       "      <th>job_A171</th>\n",
       "      <th>job_A172</th>\n",
       "      <th>job_A173</th>\n",
       "      <th>job_A174</th>\n",
       "    </tr>\n",
       "  </thead>\n",
       "  <tbody>\n",
       "    <tr>\n",
       "      <th>0</th>\n",
       "      <td>48</td>\n",
       "      <td>5951</td>\n",
       "      <td>2</td>\n",
       "      <td>2</td>\n",
       "      <td>22</td>\n",
       "      <td>1</td>\n",
       "      <td>1</td>\n",
       "      <td>0</td>\n",
       "      <td>0</td>\n",
       "      <td>0</td>\n",
       "      <td>...</td>\n",
       "      <td>0</td>\n",
       "      <td>0</td>\n",
       "      <td>1</td>\n",
       "      <td>0</td>\n",
       "      <td>1</td>\n",
       "      <td>0</td>\n",
       "      <td>0</td>\n",
       "      <td>0</td>\n",
       "      <td>1</td>\n",
       "      <td>0</td>\n",
       "    </tr>\n",
       "    <tr>\n",
       "      <th>1</th>\n",
       "      <td>12</td>\n",
       "      <td>2096</td>\n",
       "      <td>2</td>\n",
       "      <td>3</td>\n",
       "      <td>49</td>\n",
       "      <td>1</td>\n",
       "      <td>2</td>\n",
       "      <td>0</td>\n",
       "      <td>0</td>\n",
       "      <td>0</td>\n",
       "      <td>...</td>\n",
       "      <td>0</td>\n",
       "      <td>0</td>\n",
       "      <td>1</td>\n",
       "      <td>0</td>\n",
       "      <td>1</td>\n",
       "      <td>0</td>\n",
       "      <td>0</td>\n",
       "      <td>1</td>\n",
       "      <td>0</td>\n",
       "      <td>0</td>\n",
       "    </tr>\n",
       "    <tr>\n",
       "      <th>2</th>\n",
       "      <td>42</td>\n",
       "      <td>7882</td>\n",
       "      <td>2</td>\n",
       "      <td>4</td>\n",
       "      <td>45</td>\n",
       "      <td>1</td>\n",
       "      <td>2</td>\n",
       "      <td>0</td>\n",
       "      <td>0</td>\n",
       "      <td>1</td>\n",
       "      <td>...</td>\n",
       "      <td>0</td>\n",
       "      <td>0</td>\n",
       "      <td>1</td>\n",
       "      <td>0</td>\n",
       "      <td>0</td>\n",
       "      <td>1</td>\n",
       "      <td>0</td>\n",
       "      <td>0</td>\n",
       "      <td>1</td>\n",
       "      <td>0</td>\n",
       "    </tr>\n",
       "    <tr>\n",
       "      <th>3</th>\n",
       "      <td>24</td>\n",
       "      <td>4870</td>\n",
       "      <td>3</td>\n",
       "      <td>4</td>\n",
       "      <td>53</td>\n",
       "      <td>2</td>\n",
       "      <td>2</td>\n",
       "      <td>0</td>\n",
       "      <td>0</td>\n",
       "      <td>1</td>\n",
       "      <td>...</td>\n",
       "      <td>0</td>\n",
       "      <td>0</td>\n",
       "      <td>1</td>\n",
       "      <td>0</td>\n",
       "      <td>0</td>\n",
       "      <td>1</td>\n",
       "      <td>0</td>\n",
       "      <td>0</td>\n",
       "      <td>1</td>\n",
       "      <td>0</td>\n",
       "    </tr>\n",
       "    <tr>\n",
       "      <th>4</th>\n",
       "      <td>36</td>\n",
       "      <td>9055</td>\n",
       "      <td>2</td>\n",
       "      <td>4</td>\n",
       "      <td>35</td>\n",
       "      <td>1</td>\n",
       "      <td>2</td>\n",
       "      <td>1</td>\n",
       "      <td>0</td>\n",
       "      <td>0</td>\n",
       "      <td>...</td>\n",
       "      <td>0</td>\n",
       "      <td>0</td>\n",
       "      <td>1</td>\n",
       "      <td>0</td>\n",
       "      <td>0</td>\n",
       "      <td>1</td>\n",
       "      <td>0</td>\n",
       "      <td>1</td>\n",
       "      <td>0</td>\n",
       "      <td>0</td>\n",
       "    </tr>\n",
       "  </tbody>\n",
       "</table>\n",
       "<p>5 rows × 59 columns</p>\n",
       "</div>"
      ],
      "text/plain": [
       "   duration_month  credit_amount  IRPDI  present_residence_since  age  \\\n",
       "0              48           5951      2                        2   22   \n",
       "1              12           2096      2                        3   49   \n",
       "2              42           7882      2                        4   45   \n",
       "3              24           4870      3                        4   53   \n",
       "4              36           9055      2                        4   35   \n",
       "\n",
       "   number_of_existing_credits  liable_ppl_num  telephone  foreign_worker  \\\n",
       "0                           1               1          0               0   \n",
       "1                           1               2          0               0   \n",
       "2                           1               2          0               0   \n",
       "3                           2               2          0               0   \n",
       "4                           1               2          1               0   \n",
       "\n",
       "   status_of_existing_checking_account_A11  ...  other_installment_plans_A141  \\\n",
       "0                                        0  ...                             0   \n",
       "1                                        0  ...                             0   \n",
       "2                                        1  ...                             0   \n",
       "3                                        1  ...                             0   \n",
       "4                                        0  ...                             0   \n",
       "\n",
       "   other_installment_plans_A142  other_installment_plans_A143  housing_A151  \\\n",
       "0                             0                             1             0   \n",
       "1                             0                             1             0   \n",
       "2                             0                             1             0   \n",
       "3                             0                             1             0   \n",
       "4                             0                             1             0   \n",
       "\n",
       "   housing_A152  housing_A153  job_A171  job_A172  job_A173  job_A174  \n",
       "0             1             0         0         0         1         0  \n",
       "1             1             0         0         1         0         0  \n",
       "2             0             1         0         0         1         0  \n",
       "3             0             1         0         0         1         0  \n",
       "4             0             1         0         1         0         0  \n",
       "\n",
       "[5 rows x 59 columns]"
      ]
     },
     "execution_count": 12,
     "metadata": {},
     "output_type": "execute_result"
    }
   ],
   "source": [
    "cat_cols = ['status_of_existing_checking_account', 'credit_history', 'purpose',\n",
    "                 'savings_account','present_employment_since','personal_status_and_sex',\n",
    "                 'other_debtors','property','other_installment_plans',\n",
    "                  'housing','job','telephone','foreign_worker']\n",
    "\n",
    "#For each two-level categorical variable,\n",
    "# drop_first option is set to encode the variable into a single column of 0 or 1.\n",
    "for col in cat_cols:\n",
    "    if(len(Data[col].unique())==2):\n",
    "        Data[col]= pd.get_dummies(Data[col], drop_first= True)\n",
    "\n",
    "#encode the rest of the categorical data.      \n",
    "Data = pd.get_dummies(Data)\n",
    "\n",
    "Data.head(5)\n"
   ]
  },
  {
   "cell_type": "markdown",
   "metadata": {},
   "source": [
    "### Scale Descriptive Features \n",
    "Here, we use Min-Max Scaling method to scale the descriptive features between 0 and 1. \n",
    "Min-Max scaler is chosen to normalize data since we will use KNN classifier, which is a distance-based algorithm. "
   ]
  },
  {
   "cell_type": "code",
   "execution_count": 13,
   "metadata": {},
   "outputs": [],
   "source": [
    "from sklearn import preprocessing \n",
    "\n",
    "#make a copy to keep the record of column names\n",
    "Data_df = Data.copy()\n",
    "\n",
    "Data = preprocessing.MinMaxScaler().fit_transform(Data)"
   ]
  },
  {
   "cell_type": "markdown",
   "metadata": {},
   "source": [
    "Take a look at the data after encoding and scaling "
   ]
  },
  {
   "cell_type": "code",
   "execution_count": 14,
   "metadata": {},
   "outputs": [
    {
     "data": {
      "text/html": [
       "<div>\n",
       "<style scoped>\n",
       "    .dataframe tbody tr th:only-of-type {\n",
       "        vertical-align: middle;\n",
       "    }\n",
       "\n",
       "    .dataframe tbody tr th {\n",
       "        vertical-align: top;\n",
       "    }\n",
       "\n",
       "    .dataframe thead th {\n",
       "        text-align: right;\n",
       "    }\n",
       "</style>\n",
       "<table border=\"1\" class=\"dataframe\">\n",
       "  <thead>\n",
       "    <tr style=\"text-align: right;\">\n",
       "      <th></th>\n",
       "      <th>duration_month</th>\n",
       "      <th>credit_amount</th>\n",
       "      <th>IRPDI</th>\n",
       "      <th>present_residence_since</th>\n",
       "      <th>age</th>\n",
       "      <th>number_of_existing_credits</th>\n",
       "      <th>liable_ppl_num</th>\n",
       "      <th>telephone</th>\n",
       "      <th>foreign_worker</th>\n",
       "      <th>status_of_existing_checking_account_A11</th>\n",
       "      <th>...</th>\n",
       "      <th>other_installment_plans_A141</th>\n",
       "      <th>other_installment_plans_A142</th>\n",
       "      <th>other_installment_plans_A143</th>\n",
       "      <th>housing_A151</th>\n",
       "      <th>housing_A152</th>\n",
       "      <th>housing_A153</th>\n",
       "      <th>job_A171</th>\n",
       "      <th>job_A172</th>\n",
       "      <th>job_A173</th>\n",
       "      <th>job_A174</th>\n",
       "    </tr>\n",
       "  </thead>\n",
       "  <tbody>\n",
       "    <tr>\n",
       "      <th>374</th>\n",
       "      <td>0.647059</td>\n",
       "      <td>0.409101</td>\n",
       "      <td>0.333333</td>\n",
       "      <td>1.000000</td>\n",
       "      <td>0.321429</td>\n",
       "      <td>0.000000</td>\n",
       "      <td>0.0</td>\n",
       "      <td>0.0</td>\n",
       "      <td>0.0</td>\n",
       "      <td>1.0</td>\n",
       "      <td>...</td>\n",
       "      <td>0.0</td>\n",
       "      <td>0.0</td>\n",
       "      <td>1.0</td>\n",
       "      <td>1.0</td>\n",
       "      <td>0.0</td>\n",
       "      <td>0.0</td>\n",
       "      <td>0.0</td>\n",
       "      <td>0.0</td>\n",
       "      <td>1.0</td>\n",
       "      <td>0.0</td>\n",
       "    </tr>\n",
       "    <tr>\n",
       "      <th>886</th>\n",
       "      <td>0.647059</td>\n",
       "      <td>0.848575</td>\n",
       "      <td>0.333333</td>\n",
       "      <td>0.333333</td>\n",
       "      <td>0.071429</td>\n",
       "      <td>0.000000</td>\n",
       "      <td>0.0</td>\n",
       "      <td>1.0</td>\n",
       "      <td>0.0</td>\n",
       "      <td>0.0</td>\n",
       "      <td>...</td>\n",
       "      <td>0.0</td>\n",
       "      <td>0.0</td>\n",
       "      <td>1.0</td>\n",
       "      <td>0.0</td>\n",
       "      <td>1.0</td>\n",
       "      <td>0.0</td>\n",
       "      <td>0.0</td>\n",
       "      <td>0.0</td>\n",
       "      <td>1.0</td>\n",
       "      <td>0.0</td>\n",
       "    </tr>\n",
       "    <tr>\n",
       "      <th>862</th>\n",
       "      <td>0.338235</td>\n",
       "      <td>0.235281</td>\n",
       "      <td>1.000000</td>\n",
       "      <td>0.333333</td>\n",
       "      <td>0.232143</td>\n",
       "      <td>0.333333</td>\n",
       "      <td>1.0</td>\n",
       "      <td>1.0</td>\n",
       "      <td>0.0</td>\n",
       "      <td>0.0</td>\n",
       "      <td>...</td>\n",
       "      <td>0.0</td>\n",
       "      <td>1.0</td>\n",
       "      <td>0.0</td>\n",
       "      <td>0.0</td>\n",
       "      <td>1.0</td>\n",
       "      <td>0.0</td>\n",
       "      <td>0.0</td>\n",
       "      <td>1.0</td>\n",
       "      <td>0.0</td>\n",
       "      <td>0.0</td>\n",
       "    </tr>\n",
       "    <tr>\n",
       "      <th>867</th>\n",
       "      <td>0.470588</td>\n",
       "      <td>0.393914</td>\n",
       "      <td>0.666667</td>\n",
       "      <td>0.333333</td>\n",
       "      <td>0.321429</td>\n",
       "      <td>0.333333</td>\n",
       "      <td>0.0</td>\n",
       "      <td>0.0</td>\n",
       "      <td>0.0</td>\n",
       "      <td>0.0</td>\n",
       "      <td>...</td>\n",
       "      <td>0.0</td>\n",
       "      <td>0.0</td>\n",
       "      <td>1.0</td>\n",
       "      <td>0.0</td>\n",
       "      <td>1.0</td>\n",
       "      <td>0.0</td>\n",
       "      <td>0.0</td>\n",
       "      <td>0.0</td>\n",
       "      <td>1.0</td>\n",
       "      <td>0.0</td>\n",
       "    </tr>\n",
       "    <tr>\n",
       "      <th>10</th>\n",
       "      <td>0.647059</td>\n",
       "      <td>0.223286</td>\n",
       "      <td>0.666667</td>\n",
       "      <td>1.000000</td>\n",
       "      <td>0.089286</td>\n",
       "      <td>0.000000</td>\n",
       "      <td>0.0</td>\n",
       "      <td>0.0</td>\n",
       "      <td>0.0</td>\n",
       "      <td>1.0</td>\n",
       "      <td>...</td>\n",
       "      <td>0.0</td>\n",
       "      <td>0.0</td>\n",
       "      <td>1.0</td>\n",
       "      <td>1.0</td>\n",
       "      <td>0.0</td>\n",
       "      <td>0.0</td>\n",
       "      <td>0.0</td>\n",
       "      <td>0.0</td>\n",
       "      <td>1.0</td>\n",
       "      <td>0.0</td>\n",
       "    </tr>\n",
       "  </tbody>\n",
       "</table>\n",
       "<p>5 rows × 59 columns</p>\n",
       "</div>"
      ],
      "text/plain": [
       "     duration_month  credit_amount     IRPDI  present_residence_since  \\\n",
       "374        0.647059       0.409101  0.333333                 1.000000   \n",
       "886        0.647059       0.848575  0.333333                 0.333333   \n",
       "862        0.338235       0.235281  1.000000                 0.333333   \n",
       "867        0.470588       0.393914  0.666667                 0.333333   \n",
       "10         0.647059       0.223286  0.666667                 1.000000   \n",
       "\n",
       "          age  number_of_existing_credits  liable_ppl_num  telephone  \\\n",
       "374  0.321429                    0.000000             0.0        0.0   \n",
       "886  0.071429                    0.000000             0.0        1.0   \n",
       "862  0.232143                    0.333333             1.0        1.0   \n",
       "867  0.321429                    0.333333             0.0        0.0   \n",
       "10   0.089286                    0.000000             0.0        0.0   \n",
       "\n",
       "     foreign_worker  status_of_existing_checking_account_A11  ...  \\\n",
       "374             0.0                                      1.0  ...   \n",
       "886             0.0                                      0.0  ...   \n",
       "862             0.0                                      0.0  ...   \n",
       "867             0.0                                      0.0  ...   \n",
       "10              0.0                                      1.0  ...   \n",
       "\n",
       "     other_installment_plans_A141  other_installment_plans_A142  \\\n",
       "374                           0.0                           0.0   \n",
       "886                           0.0                           0.0   \n",
       "862                           0.0                           1.0   \n",
       "867                           0.0                           0.0   \n",
       "10                            0.0                           0.0   \n",
       "\n",
       "     other_installment_plans_A143  housing_A151  housing_A152  housing_A153  \\\n",
       "374                           1.0           1.0           0.0           0.0   \n",
       "886                           1.0           0.0           1.0           0.0   \n",
       "862                           0.0           0.0           1.0           0.0   \n",
       "867                           1.0           0.0           1.0           0.0   \n",
       "10                            1.0           1.0           0.0           0.0   \n",
       "\n",
       "     job_A171  job_A172  job_A173  job_A174  \n",
       "374       0.0       0.0       1.0       0.0  \n",
       "886       0.0       0.0       1.0       0.0  \n",
       "862       0.0       1.0       0.0       0.0  \n",
       "867       0.0       0.0       1.0       0.0  \n",
       "10        0.0       0.0       1.0       0.0  \n",
       "\n",
       "[5 rows x 59 columns]"
      ]
     },
     "execution_count": 14,
     "metadata": {},
     "output_type": "execute_result"
    }
   ],
   "source": [
    "pd.DataFrame(Data, columns = Data_df.columns).sample(n=5, random_state = 23664)"
   ]
  },
  {
   "cell_type": "markdown",
   "metadata": {},
   "source": [
    "### Feature Selection & Ranking "
   ]
  },
  {
   "cell_type": "markdown",
   "metadata": {},
   "source": [
    "Let's have a look at the most important 10 features selected by Random Forest Importance (RFI) in the full dataset. During the hyperparameter tuning stage, we will search over 10,20 ,30, and the full features to decide the number of features that works best with each classifier."
   ]
  },
  {
   "cell_type": "code",
   "execution_count": 15,
   "metadata": {},
   "outputs": [
    {
     "data": {
      "text/plain": [
       "array(['credit_amount', 'age', 'duration_month',\n",
       "       'status_of_existing_checking_account_A14',\n",
       "       'status_of_existing_checking_account_A11', 'IRPDI',\n",
       "       'present_residence_since', 'credit_history_A34',\n",
       "       'savings_account_A61', 'number_of_existing_credits'], dtype=object)"
      ]
     },
     "execution_count": 15,
     "metadata": {},
     "output_type": "execute_result"
    }
   ],
   "source": [
    "from sklearn.ensemble import RandomForestClassifier\n",
    "\n",
    "num_features = 10 \n",
    "model_rfi = RandomForestClassifier(n_estimators = 100, random_state= 999)\n",
    "model_rfi.fit(Data,target)\n",
    "#sort the features by importance\n",
    "fs_indice_rfi = np.argsort(model_rfi.feature_importances_)[::-1][0:num_features] \n",
    "\n",
    "best_features_rfi = Data_df.columns[fs_indice_rfi].values\n",
    "best_features_rfi"
   ]
  },
  {
   "cell_type": "code",
   "execution_count": 16,
   "metadata": {},
   "outputs": [
    {
     "data": {
      "text/plain": [
       "array([0.09991187, 0.08123932, 0.07880471, 0.05439587, 0.03779626,\n",
       "       0.03533492, 0.03290916, 0.0230829 , 0.0202617 , 0.01808866])"
      ]
     },
     "execution_count": 16,
     "metadata": {},
     "output_type": "execute_result"
    }
   ],
   "source": [
    "feature_importances_rfi = model_rfi.feature_importances_[fs_indice_rfi]\n",
    "feature_importances_rfi"
   ]
  },
  {
   "cell_type": "markdown",
   "metadata": {},
   "source": [
    "Visualization of feature importance "
   ]
  },
  {
   "cell_type": "code",
   "execution_count": 17,
   "metadata": {},
   "outputs": [],
   "source": [
    "import altair as alt \n",
    "alt.renderers.enable('notebook')\n",
    "# function to plot feature importance \n",
    "def barplot_imp(best_features, scores, method_name , color):\n",
    "    i = 1\n",
    "    df = pd.DataFrame({'Feature': best_features,\n",
    "                     'Scores' :  scores})\n",
    "    chart = alt.Chart(df,\n",
    "                      width= 500,\n",
    "                      title = 'Figure' + str(i) +': '+ method_name + 'Feature Importance').mark_bar(color = color).encode(\n",
    "        alt.X('Feature', title = 'Feature', sort = None, axis = alt.AxisConfig(labelAngle = 45)),\n",
    "        alt.Y('Scores', title = 'Scores')\n",
    "    )\n",
    "    i = i+1\n",
    "    return chart "
   ]
  },
  {
   "cell_type": "code",
   "execution_count": 18,
   "metadata": {},
   "outputs": [
    {
     "data": {
      "application/javascript": [
       "var spec = {\"config\": {\"view\": {\"width\": 400, \"height\": 300}, \"mark\": {\"tooltip\": null}}, \"data\": {\"name\": \"data-bfa1229d78b61fef8cec9db42540a813\"}, \"mark\": {\"type\": \"bar\", \"color\": \"skyblue\"}, \"encoding\": {\"x\": {\"type\": \"nominal\", \"axis\": {\"labelAngle\": 45}, \"field\": \"Feature\", \"sort\": null, \"title\": \"Feature\"}, \"y\": {\"type\": \"quantitative\", \"field\": \"Scores\", \"title\": \"Scores\"}}, \"title\": \"Figure1: Random ForestFeature Importance\", \"width\": 500, \"$schema\": \"https://vega.github.io/schema/vega-lite/v3.2.1.json\", \"datasets\": {\"data-bfa1229d78b61fef8cec9db42540a813\": [{\"Feature\": \"credit_amount\", \"Scores\": 0.09991186776274695}, {\"Feature\": \"age\", \"Scores\": 0.08123931704693735}, {\"Feature\": \"duration_month\", \"Scores\": 0.07880470564924667}, {\"Feature\": \"status_of_existing_checking_account_A14\", \"Scores\": 0.054395869600644554}, {\"Feature\": \"status_of_existing_checking_account_A11\", \"Scores\": 0.0377962618196286}, {\"Feature\": \"IRPDI\", \"Scores\": 0.03533492161743841}, {\"Feature\": \"present_residence_since\", \"Scores\": 0.032909160867133636}, {\"Feature\": \"credit_history_A34\", \"Scores\": 0.023082904294173815}, {\"Feature\": \"savings_account_A61\", \"Scores\": 0.020261701818030685}, {\"Feature\": \"number_of_existing_credits\", \"Scores\": 0.01808865533820026}]}};\n",
       "var opt = {};\n",
       "var type = \"vega-lite\";\n",
       "var id = \"a39bd35e-4aa7-49b7-8b2c-7ac1c702ff7d\";\n",
       "\n",
       "var output_area = this;\n",
       "\n",
       "require([\"nbextensions/jupyter-vega/index\"], function(vega) {\n",
       "  var target = document.createElement(\"div\");\n",
       "  target.id = id;\n",
       "  target.className = \"vega-embed\";\n",
       "\n",
       "  var style = document.createElement(\"style\");\n",
       "  style.textContent = [\n",
       "    \".vega-embed .error p {\",\n",
       "    \"  color: firebrick;\",\n",
       "    \"  font-size: 14px;\",\n",
       "    \"}\",\n",
       "  ].join(\"\\\\n\");\n",
       "\n",
       "  // element is a jQuery wrapped DOM element inside the output area\n",
       "  // see http://ipython.readthedocs.io/en/stable/api/generated/\\\n",
       "  // IPython.display.html#IPython.display.Javascript.__init__\n",
       "  element[0].appendChild(target);\n",
       "  element[0].appendChild(style);\n",
       "\n",
       "  vega.render(\"#\" + id, spec, type, opt, output_area);\n",
       "}, function (err) {\n",
       "  if (err.requireType !== \"scripterror\") {\n",
       "    throw(err);\n",
       "  }\n",
       "});\n"
      ],
      "text/plain": [
       "<vega.vegalite.VegaLite at 0x114179dd8>"
      ]
     },
     "metadata": {
      "jupyter-vega": "#a39bd35e-4aa7-49b7-8b2c-7ac1c702ff7d"
     },
     "output_type": "display_data"
    },
    {
     "data": {
      "text/plain": []
     },
     "execution_count": 18,
     "metadata": {},
     "output_type": "execute_result"
    },
    {
     "data": {
      "image/png": "[encoded data removed]"
     },
     "metadata": {
      "jupyter-vega": "#a39bd35e-4aa7-49b7-8b2c-7ac1c702ff7d"
     },
     "output_type": "display_data"
    }
   ],
   "source": [
    "barplot_imp(best_features_rfi, feature_importances_rfi, 'Random Forest', 'skyblue')"
   ]
  },
  {
   "cell_type": "markdown",
   "metadata": {},
   "source": [
    "According to Figure 1, credit amount, age and duration are the most important features. "
   ]
  },
  {
   "cell_type": "markdown",
   "metadata": {},
   "source": [
    "## Train & Test Data Spliting \n",
    "Spliting data into train and test set with 70/30 ratio and stratifing method."
   ]
  },
  {
   "cell_type": "code",
   "execution_count": 19,
   "metadata": {},
   "outputs": [
    {
     "name": "stdout",
     "output_type": "stream",
     "text": [
      "(699, 59) (300, 59)\n"
     ]
    }
   ],
   "source": [
    "from sklearn.model_selection import train_test_split\n",
    "\n",
    "D_train ,D_test,t_train, t_test = train_test_split(Data, target,\n",
    "                                                     test_size = 0.3, random_state = 999, \n",
    "                                                     stratify = target)\n",
    "print( D_train.shape , D_test.shape )\n"
   ]
  },
  {
   "cell_type": "markdown",
   "metadata": {},
   "source": [
    "# Model Selection & Evaluation Strategy\n",
    "\n",
    "### Model Selection\n",
    "This data set is a binary classification task, we choose Decision Tree, Random Forest and K Nearest Neighbours classifiers as our candidate models. \n",
    "\n",
    "### Evaluation Strategy\n",
    "We will train and tune our models on training sets, and we will test them with test set.\n",
    "For each model, we will use 5-fold stratified cross-validation for hyperparameter tuning.    \n",
    "As suggested by the data source (Hofmann 1994), this credit dataset requires use of a cost matrix (Table 3).\n",
    "That means mis-classifying a bad customer as good is 5 times worse than classifying a customer as bad when they are actually good. \n",
    "\n",
    "                                               Table 3: cost matrix\n",
    "|  cm  |   0  |  1   |\n",
    "|------|------|------|\n",
    "|   0  |   0  |  5   | \n",
    "|   1  |   1  |  0   |    \n",
    "\n",
    "        \n",
    "                                                (1 = Good, 0 = Bad) \n",
    "                    (The rows represent the actual classification and the columns the predicted classification.)\n"
   ]
  },
  {
   "cell_type": "code",
   "execution_count": 20,
   "metadata": {},
   "outputs": [],
   "source": [
    "from sklearn.model_selection import StratifiedKFold, GridSearchCV\n",
    "from sklearn.metrics import confusion_matrix \n",
    "from sklearn.metrics import  make_scorer\n",
    "\n",
    "cv_method = StratifiedKFold(n_splits = 5, random_state= 43 )\n",
    "\n",
    "#define scoring strategy based on the cost matrix \n",
    "def cost_score_func(t_test , t_pre ):\n",
    "    cm = confusion_matrix(t_test, t_pre)\n",
    "    cost_matrix = np.array([[0,5],[1,0]])\n",
    "    total_cost = np.multiply(cm, cost_matrix).sum()\n",
    "    return total_cost\n",
    "\n",
    "cost_score = make_scorer(cost_score_func, greater_is_better = False)  "
   ]
  },
  {
   "cell_type": "markdown",
   "metadata": {},
   "source": [
    "The `cost_score_fun` returns postive numeric score, the lower the cost, the better the model is; while in `cost_score` we defined `greater_is_better = False`, which will return the same score but in negative value; thus, the score would  be the higher the better. We shall use `cost_score` for our performance metrics."
   ]
  },
  {
   "cell_type": "markdown",
   "metadata": {},
   "source": [
    "# Hyperparameter Tuning "
   ]
  },
  {
   "cell_type": "markdown",
   "metadata": {},
   "source": [
    "## K-Nearest Neighbors\n",
    "\n",
    "Adopting `Pipeline`, we stack feature selection and grid search for KNN hyperparameter tuning via cross-validation.\n",
    "\n",
    "The KNN hyperparameters are as follows:\n",
    "* number of neighbors (`n_neighbors`) \n",
    "* the distance metric `p`.\n",
    "\n",
    "For feature selection, we use Random Forest Importance (RFI) method with 100 estimators. In order to make the function reusable, we define the custom `RFIFeatureSelector()` class below to pass in RFI as a to the pipeline."
   ]
  },
  {
   "cell_type": "code",
   "execution_count": 21,
   "metadata": {},
   "outputs": [],
   "source": [
    "from sklearn.base import BaseEstimator, TransformerMixin\n",
    "\n",
    "# custom function for RFI feature selection inside a pipeline\n",
    "# here we use n_estimators=100\n",
    "class RFIFeatureSelector(BaseEstimator, TransformerMixin):\n",
    "    \n",
    "    # class constructor \n",
    "    def __init__(self, n_features_=10):\n",
    "        self.n_features_ = n_features_\n",
    "        self.fs_indices_ = None\n",
    "\n",
    "    # override the fit function\n",
    "    def fit(self, X, y):\n",
    "        from sklearn.ensemble import RandomForestClassifier\n",
    "        from numpy import argsort\n",
    "        model_rfi = RandomForestClassifier(n_estimators=100)\n",
    "        model_rfi.fit(X, y)\n",
    "        self.fs_indices_ = argsort(model_rfi.feature_importances_)[::-1][0:self.n_features_] \n",
    "        return self \n",
    "    \n",
    "    # override the transform function\n",
    "    def transform(self, X, y=None):\n",
    "        return X[:, self.fs_indices_]"
   ]
  },
  {
   "cell_type": "code",
   "execution_count": 22,
   "metadata": {},
   "outputs": [],
   "source": [
    "from sklearn.pipeline import Pipeline\n",
    "from sklearn.neighbors import KNeighborsClassifier\n",
    "\n",
    "pipe_KNN = Pipeline(steps=[('rfi_fs', RFIFeatureSelector()), \n",
    "                           ('knn', KNeighborsClassifier())])\n",
    "\n",
    "params_pipe_KNN = {'rfi_fs__n_features_': [10, 20, 30, Data.shape[1]],\n",
    "                   'knn__n_neighbors': [1, 5, 10, 20, 40, 60],\n",
    "                   'knn__p': [1, 2]}\n",
    "\n",
    "gs_pipe_KNN = GridSearchCV(estimator=pipe_KNN, \n",
    "                           param_grid=params_pipe_KNN, \n",
    "                           cv=cv_method,\n",
    "                           refit=True,\n",
    "                           n_jobs=-2,\n",
    "                           scoring= cost_score,\n",
    "                           verbose=1) "
   ]
  },
  {
   "cell_type": "code",
   "execution_count": 23,
   "metadata": {},
   "outputs": [
    {
     "name": "stdout",
     "output_type": "stream",
     "text": [
      "Fitting 5 folds for each of 48 candidates, totalling 240 fits\n"
     ]
    },
    {
     "name": "stderr",
     "output_type": "stream",
     "text": [
      "[Parallel(n_jobs=-2)]: Using backend LokyBackend with 3 concurrent workers.\n",
      "[Parallel(n_jobs=-2)]: Done  44 tasks      | elapsed:    3.5s\n",
      "[Parallel(n_jobs=-2)]: Done 194 tasks      | elapsed:   11.2s\n",
      "[Parallel(n_jobs=-2)]: Done 240 out of 240 | elapsed:   13.6s finished\n",
      "/Users/ivylin/anaconda3/lib/python3.6/site-packages/sklearn/model_selection/_search.py:813: DeprecationWarning: The default of the `iid` parameter will change from True to False in version 0.22 and will be removed in 0.24. This will change numeric results when test-set sizes are unequal.\n",
      "  DeprecationWarning)\n"
     ]
    },
    {
     "data": {
      "text/plain": [
       "GridSearchCV(cv=StratifiedKFold(n_splits=5, random_state=43, shuffle=False),\n",
       "             error_score='raise-deprecating',\n",
       "             estimator=Pipeline(memory=None,\n",
       "                                steps=[('rfi_fs',\n",
       "                                        RFIFeatureSelector(n_features_=10)),\n",
       "                                       ('knn',\n",
       "                                        KNeighborsClassifier(algorithm='auto',\n",
       "                                                             leaf_size=30,\n",
       "                                                             metric='minkowski',\n",
       "                                                             metric_params=None,\n",
       "                                                             n_jobs=None,\n",
       "                                                             n_neighbors=5, p=2,\n",
       "                                                             weights='uniform'))],\n",
       "                                verbose=False),\n",
       "             iid='warn', n_jobs=-2,\n",
       "             param_grid={'knn__n_neighbors': [1, 5, 10, 20, 40, 60],\n",
       "                         'knn__p': [1, 2],\n",
       "                         'rfi_fs__n_features_': [10, 20, 30, 59]},\n",
       "             pre_dispatch='2*n_jobs', refit=True, return_train_score=False,\n",
       "             scoring=make_scorer(cost_score_func, greater_is_better=False),\n",
       "             verbose=1)"
      ]
     },
     "execution_count": 23,
     "metadata": {},
     "output_type": "execute_result"
    }
   ],
   "source": [
    "gs_pipe_KNN.fit(D_train, t_train)"
   ]
  },
  {
   "cell_type": "code",
   "execution_count": 24,
   "metadata": {},
   "outputs": [
    {
     "data": {
      "text/plain": [
       "{'knn__n_neighbors': 10, 'knn__p': 2, 'rfi_fs__n_features_': 10}"
      ]
     },
     "execution_count": 24,
     "metadata": {},
     "output_type": "execute_result"
    }
   ],
   "source": [
    "gs_pipe_KNN.best_params_"
   ]
  },
  {
   "cell_type": "code",
   "execution_count": 25,
   "metadata": {},
   "outputs": [
    {
     "data": {
      "text/plain": [
       "-133.78969957081546"
      ]
     },
     "execution_count": 25,
     "metadata": {},
     "output_type": "execute_result"
    }
   ],
   "source": [
    "gs_pipe_KNN.best_score_"
   ]
  },
  {
   "cell_type": "markdown",
   "metadata": {},
   "source": [
    "The optimal KNN model has cost metrix score of -133. The best performing KNN selected 10 features with 10 nearest neighbors and p = 2. We will check the other combinations of hyper-parameters to see if the difference is rather significant or not. "
   ]
  },
  {
   "cell_type": "code",
   "execution_count": 26,
   "metadata": {},
   "outputs": [],
   "source": [
    "# custom function to format the search results as a Pandas data frame\n",
    "def get_search_results(gs):\n",
    "\n",
    "    def model_result(scores, params):\n",
    "        scores = {'mean_score': np.mean(scores),\n",
    "             'std_score': np.std(scores),\n",
    "             'min_score': np.min(scores),\n",
    "             'max_score': np.max(scores)}\n",
    "        return pd.Series({**params,**scores})\n",
    "\n",
    "    models = []\n",
    "    scores = []\n",
    "\n",
    "    for i in range(gs.n_splits_):\n",
    "        key = f\"split{i}_test_score\"\n",
    "        r = gs.cv_results_[key]        \n",
    "        scores.append(r.reshape(-1,1))\n",
    "\n",
    "    all_scores = np.hstack(scores)\n",
    "    for p, s in zip(gs.cv_results_['params'], all_scores):\n",
    "        models.append((model_result(s, p)))\n",
    "\n",
    "    pipe_results = pd.concat(models, axis=1).T.sort_values(['mean_score'], ascending=False)\n",
    "\n",
    "    columns_first = ['mean_score', 'std_score', 'max_score', 'min_score']\n",
    "    columns = columns_first + [c for c in pipe_results.columns if c not in columns_first]\n",
    "\n",
    "    return pipe_results[columns]"
   ]
  },
  {
   "cell_type": "code",
   "execution_count": 27,
   "metadata": {},
   "outputs": [
    {
     "data": {
      "text/html": [
       "<div>\n",
       "<style scoped>\n",
       "    .dataframe tbody tr th:only-of-type {\n",
       "        vertical-align: middle;\n",
       "    }\n",
       "\n",
       "    .dataframe tbody tr th {\n",
       "        vertical-align: top;\n",
       "    }\n",
       "\n",
       "    .dataframe thead th {\n",
       "        text-align: right;\n",
       "    }\n",
       "</style>\n",
       "<table border=\"1\" class=\"dataframe\">\n",
       "  <thead>\n",
       "    <tr style=\"text-align: right;\">\n",
       "      <th></th>\n",
       "      <th>mean_score</th>\n",
       "      <th>std_score</th>\n",
       "      <th>max_score</th>\n",
       "      <th>min_score</th>\n",
       "      <th>knn__n_neighbors</th>\n",
       "      <th>knn__p</th>\n",
       "      <th>rfi_fs__n_features_</th>\n",
       "    </tr>\n",
       "  </thead>\n",
       "  <tbody>\n",
       "    <tr>\n",
       "      <th>20</th>\n",
       "      <td>-133.8</td>\n",
       "      <td>9.806121</td>\n",
       "      <td>-116.0</td>\n",
       "      <td>-144.0</td>\n",
       "      <td>10.0</td>\n",
       "      <td>2.0</td>\n",
       "      <td>10.0</td>\n",
       "    </tr>\n",
       "    <tr>\n",
       "      <th>16</th>\n",
       "      <td>-134.4</td>\n",
       "      <td>10.556515</td>\n",
       "      <td>-120.0</td>\n",
       "      <td>-148.0</td>\n",
       "      <td>10.0</td>\n",
       "      <td>1.0</td>\n",
       "      <td>10.0</td>\n",
       "    </tr>\n",
       "    <tr>\n",
       "      <th>21</th>\n",
       "      <td>-137.2</td>\n",
       "      <td>10.533755</td>\n",
       "      <td>-120.0</td>\n",
       "      <td>-151.0</td>\n",
       "      <td>10.0</td>\n",
       "      <td>2.0</td>\n",
       "      <td>20.0</td>\n",
       "    </tr>\n",
       "    <tr>\n",
       "      <th>36</th>\n",
       "      <td>-137.8</td>\n",
       "      <td>9.826495</td>\n",
       "      <td>-131.0</td>\n",
       "      <td>-157.0</td>\n",
       "      <td>40.0</td>\n",
       "      <td>2.0</td>\n",
       "      <td>10.0</td>\n",
       "    </tr>\n",
       "    <tr>\n",
       "      <th>32</th>\n",
       "      <td>-140.4</td>\n",
       "      <td>8.064738</td>\n",
       "      <td>-129.0</td>\n",
       "      <td>-154.0</td>\n",
       "      <td>40.0</td>\n",
       "      <td>1.0</td>\n",
       "      <td>10.0</td>\n",
       "    </tr>\n",
       "  </tbody>\n",
       "</table>\n",
       "</div>"
      ],
      "text/plain": [
       "    mean_score  std_score  max_score  min_score  knn__n_neighbors  knn__p  \\\n",
       "20      -133.8   9.806121     -116.0     -144.0              10.0     2.0   \n",
       "16      -134.4  10.556515     -120.0     -148.0              10.0     1.0   \n",
       "21      -137.2  10.533755     -120.0     -151.0              10.0     2.0   \n",
       "36      -137.8   9.826495     -131.0     -157.0              40.0     2.0   \n",
       "32      -140.4   8.064738     -129.0     -154.0              40.0     1.0   \n",
       "\n",
       "    rfi_fs__n_features_  \n",
       "20                 10.0  \n",
       "16                 10.0  \n",
       "21                 20.0  \n",
       "36                 10.0  \n",
       "32                 10.0  "
      ]
     },
     "execution_count": 27,
     "metadata": {},
     "output_type": "execute_result"
    }
   ],
   "source": [
    "results_KNN = get_search_results(gs_pipe_KNN)\n",
    "results_KNN.head()"
   ]
  },
  {
   "cell_type": "markdown",
   "metadata": {},
   "source": [
    "The difference between the hyperparameter combinations is not much when 10 features were selected.\n",
    "The visualization below shows the results of the grid search corresponding to 10 selected features."
   ]
  },
  {
   "cell_type": "code",
   "execution_count": 28,
   "metadata": {},
   "outputs": [
    {
     "data": {
      "application/javascript": [
       "var spec = {\"config\": {\"view\": {\"width\": 400, \"height\": 300}, \"mark\": {\"tooltip\": null}}, \"data\": {\"name\": \"data-06b13f1da400a515c3ea18daed2c19c9\"}, \"mark\": {\"type\": \"line\", \"point\": true}, \"encoding\": {\"color\": {\"type\": \"nominal\", \"field\": \"knn__p\", \"title\": \"p\"}, \"x\": {\"type\": \"quantitative\", \"field\": \"knn__n_neighbors\", \"title\": \"Number of Neighbors\"}, \"y\": {\"type\": \"quantitative\", \"field\": \"mean_score\", \"scale\": {\"zero\": false}, \"title\": \"Mean Cost Score\"}}, \"title\": \"KNN Performance Comparison with 10 Features\", \"$schema\": \"https://vega.github.io/schema/vega-lite/v3.2.1.json\", \"datasets\": {\"data-06b13f1da400a515c3ea18daed2c19c9\": [{\"mean_score\": -133.8, \"std_score\": 9.806120537705011, \"max_score\": -116.0, \"min_score\": -144.0, \"knn__n_neighbors\": 10.0, \"knn__p\": 2.0, \"rfi_fs__n_features_\": 10.0}, {\"mean_score\": -134.4, \"std_score\": 10.55651457631732, \"max_score\": -120.0, \"min_score\": -148.0, \"knn__n_neighbors\": 10.0, \"knn__p\": 1.0, \"rfi_fs__n_features_\": 10.0}, {\"mean_score\": -137.8, \"std_score\": 9.826494797230598, \"max_score\": -131.0, \"min_score\": -157.0, \"knn__n_neighbors\": 40.0, \"knn__p\": 2.0, \"rfi_fs__n_features_\": 10.0}, {\"mean_score\": -140.4, \"std_score\": 8.06473806146238, \"max_score\": -129.0, \"min_score\": -154.0, \"knn__n_neighbors\": 40.0, \"knn__p\": 1.0, \"rfi_fs__n_features_\": 10.0}, {\"mean_score\": -141.0, \"std_score\": 5.932958789676531, \"max_score\": -135.0, \"min_score\": -149.0, \"knn__n_neighbors\": 1.0, \"knn__p\": 1.0, \"rfi_fs__n_features_\": 10.0}, {\"mean_score\": -143.2, \"std_score\": 11.617228585166083, \"max_score\": -123.0, \"min_score\": -156.0, \"knn__n_neighbors\": 20.0, \"knn__p\": 1.0, \"rfi_fs__n_features_\": 10.0}, {\"mean_score\": -144.2, \"std_score\": 10.264501936285074, \"max_score\": -126.0, \"min_score\": -155.0, \"knn__n_neighbors\": 60.0, \"knn__p\": 2.0, \"rfi_fs__n_features_\": 10.0}, {\"mean_score\": -145.4, \"std_score\": 9.583318840568753, \"max_score\": -136.0, \"min_score\": -162.0, \"knn__n_neighbors\": 60.0, \"knn__p\": 1.0, \"rfi_fs__n_features_\": 10.0}, {\"mean_score\": -145.4, \"std_score\": 13.380582946942186, \"max_score\": -136.0, \"min_score\": -172.0, \"knn__n_neighbors\": 1.0, \"knn__p\": 2.0, \"rfi_fs__n_features_\": 10.0}, {\"mean_score\": -145.8, \"std_score\": 13.422369388450013, \"max_score\": -128.0, \"min_score\": -162.0, \"knn__n_neighbors\": 5.0, \"knn__p\": 2.0, \"rfi_fs__n_features_\": 10.0}, {\"mean_score\": -148.8, \"std_score\": 12.106196760337246, \"max_score\": -129.0, \"min_score\": -167.0, \"knn__n_neighbors\": 20.0, \"knn__p\": 2.0, \"rfi_fs__n_features_\": 10.0}, {\"mean_score\": -150.4, \"std_score\": 11.306635220082056, \"max_score\": -133.0, \"min_score\": -161.0, \"knn__n_neighbors\": 5.0, \"knn__p\": 1.0, \"rfi_fs__n_features_\": 10.0}]}};\n",
       "var opt = {};\n",
       "var type = \"vega-lite\";\n",
       "var id = \"c55078fb-8fe3-403a-9a37-70aa1ef14627\";\n",
       "\n",
       "var output_area = this;\n",
       "\n",
       "require([\"nbextensions/jupyter-vega/index\"], function(vega) {\n",
       "  var target = document.createElement(\"div\");\n",
       "  target.id = id;\n",
       "  target.className = \"vega-embed\";\n",
       "\n",
       "  var style = document.createElement(\"style\");\n",
       "  style.textContent = [\n",
       "    \".vega-embed .error p {\",\n",
       "    \"  color: firebrick;\",\n",
       "    \"  font-size: 14px;\",\n",
       "    \"}\",\n",
       "  ].join(\"\\\\n\");\n",
       "\n",
       "  // element is a jQuery wrapped DOM element inside the output area\n",
       "  // see http://ipython.readthedocs.io/en/stable/api/generated/\\\n",
       "  // IPython.display.html#IPython.display.Javascript.__init__\n",
       "  element[0].appendChild(target);\n",
       "  element[0].appendChild(style);\n",
       "\n",
       "  vega.render(\"#\" + id, spec, type, opt, output_area);\n",
       "}, function (err) {\n",
       "  if (err.requireType !== \"scripterror\") {\n",
       "    throw(err);\n",
       "  }\n",
       "});\n"
      ],
      "text/plain": [
       "<vega.vegalite.VegaLite at 0x1141a20f0>"
      ]
     },
     "metadata": {
      "jupyter-vega": "#c55078fb-8fe3-403a-9a37-70aa1ef14627"
     },
     "output_type": "display_data"
    },
    {
     "data": {
      "text/plain": []
     },
     "execution_count": 28,
     "metadata": {},
     "output_type": "execute_result"
    },
    {
     "data": {
      "image/png": "[encoded data removed]"
     },
     "metadata": {
      "jupyter-vega": "#c55078fb-8fe3-403a-9a37-70aa1ef14627"
     },
     "output_type": "display_data"
    }
   ],
   "source": [
    "import altair as alt\n",
    "\n",
    "results_KNN_10_features = results_KNN[results_KNN['rfi_fs__n_features_'] == 10.0]\n",
    "\n",
    "alt.Chart(results_KNN_10_features, \n",
    "          title='KNN Performance Comparison with 10 Features'\n",
    "         ).mark_line(point=True).encode(\n",
    "    alt.X('knn__n_neighbors', title='Number of Neighbors'),\n",
    "    alt.Y('mean_score', title='Mean Cost Score', scale=alt.Scale(zero=False)),\n",
    "    alt.Color('knn__p:N', title='p')\n",
    ")"
   ]
  },
  {
   "cell_type": "markdown",
   "metadata": {},
   "source": [
    "## Decision Tree\n",
    "\n",
    "The hyperparameter tuning for Decision Tree aim to determine the optimal combinations of `criterion` and maximum depth (`max_depth`)."
   ]
  },
  {
   "cell_type": "code",
   "execution_count": 29,
   "metadata": {},
   "outputs": [],
   "source": [
    "from sklearn.tree import DecisionTreeClassifier \n",
    "\n",
    "pipe_DT = Pipeline(steps = [('rfi_fs', RFIFeatureSelector()),\n",
    "                    ('dt', DecisionTreeClassifier())\n",
    "                    ])\n",
    "\n",
    "para_pipe_DT = {'rfi_fs__n_features_': [10, 20, 30, Data.shape[1]],\n",
    "               'dt__max_depth': list(range(3,11)),\n",
    "               'dt__criterion': ['gini', 'entropy']}\n",
    "                    \n",
    "gs_pipe_DT = GridSearchCV(estimator = pipe_DT,\n",
    "                         param_grid = para_pipe_DT, \n",
    "                         cv = cv_method,\n",
    "                         refit = True,\n",
    "                         scoring = cost_score,\n",
    "                         verbose = 1)\n"
   ]
  },
  {
   "cell_type": "code",
   "execution_count": 30,
   "metadata": {},
   "outputs": [
    {
     "name": "stdout",
     "output_type": "stream",
     "text": [
      "Fitting 5 folds for each of 64 candidates, totalling 320 fits\n"
     ]
    },
    {
     "name": "stderr",
     "output_type": "stream",
     "text": [
      "[Parallel(n_jobs=1)]: Using backend SequentialBackend with 1 concurrent workers.\n",
      "[Parallel(n_jobs=1)]: Done 320 out of 320 | elapsed:   30.1s finished\n",
      "/Users/ivylin/anaconda3/lib/python3.6/site-packages/sklearn/model_selection/_search.py:813: DeprecationWarning: The default of the `iid` parameter will change from True to False in version 0.22 and will be removed in 0.24. This will change numeric results when test-set sizes are unequal.\n",
      "  DeprecationWarning)\n"
     ]
    },
    {
     "data": {
      "text/plain": [
       "GridSearchCV(cv=StratifiedKFold(n_splits=5, random_state=43, shuffle=False),\n",
       "             error_score='raise-deprecating',\n",
       "             estimator=Pipeline(memory=None,\n",
       "                                steps=[('rfi_fs',\n",
       "                                        RFIFeatureSelector(n_features_=10)),\n",
       "                                       ('dt',\n",
       "                                        DecisionTreeClassifier(class_weight=None,\n",
       "                                                               criterion='gini',\n",
       "                                                               max_depth=None,\n",
       "                                                               max_features=None,\n",
       "                                                               max_leaf_nodes=None,\n",
       "                                                               min_impurity_decrease=0.0,\n",
       "                                                               min_impurity_spli...\n",
       "                                                               min_weight_fraction_leaf=0.0,\n",
       "                                                               presort=False,\n",
       "                                                               random_state=None,\n",
       "                                                               splitter='best'))],\n",
       "                                verbose=False),\n",
       "             iid='warn', n_jobs=None,\n",
       "             param_grid={'dt__criterion': ['gini', 'entropy'],\n",
       "                         'dt__max_depth': [3, 4, 5, 6, 7, 8, 9, 10],\n",
       "                         'rfi_fs__n_features_': [10, 20, 30, 59]},\n",
       "             pre_dispatch='2*n_jobs', refit=True, return_train_score=False,\n",
       "             scoring=make_scorer(cost_score_func, greater_is_better=False),\n",
       "             verbose=1)"
      ]
     },
     "execution_count": 30,
     "metadata": {},
     "output_type": "execute_result"
    }
   ],
   "source": [
    "gs_pipe_DT.fit(D_train, t_train)"
   ]
  },
  {
   "cell_type": "code",
   "execution_count": 31,
   "metadata": {},
   "outputs": [
    {
     "data": {
      "text/plain": [
       "{'dt__criterion': 'gini', 'dt__max_depth': 9, 'rfi_fs__n_features_': 59}"
      ]
     },
     "execution_count": 31,
     "metadata": {},
     "output_type": "execute_result"
    }
   ],
   "source": [
    "gs_pipe_DT.best_params_"
   ]
  },
  {
   "cell_type": "code",
   "execution_count": 32,
   "metadata": {},
   "outputs": [
    {
     "data": {
      "text/plain": [
       "-128.79542203147352"
      ]
     },
     "execution_count": 32,
     "metadata": {},
     "output_type": "execute_result"
    }
   ],
   "source": [
    "gs_pipe_DT.best_score_"
   ]
  },
  {
   "cell_type": "markdown",
   "metadata": {},
   "source": [
    "The optimal DT model shows the cost metrix score of -129. The best performing DT selected 59 features with gini criterion and maximun depth = 9."
   ]
  },
  {
   "cell_type": "code",
   "execution_count": 33,
   "metadata": {},
   "outputs": [
    {
     "data": {
      "application/javascript": [
       "var spec = {\"config\": {\"view\": {\"width\": 400, \"height\": 300}, \"mark\": {\"tooltip\": null}}, \"data\": {\"name\": \"data-85f400139517bbc2ac8950ca57029903\"}, \"mark\": {\"type\": \"line\", \"point\": true}, \"encoding\": {\"color\": {\"type\": \"nominal\", \"field\": \"dt__criterion\", \"title\": \"criterion\"}, \"x\": {\"type\": \"quantitative\", \"field\": \"dt__max_depth\", \"title\": \"Maximum depth\"}, \"y\": {\"type\": \"quantitative\", \"field\": \"mean_score\", \"scale\": {\"zero\": false}, \"title\": \"Mean Cost Score\"}}, \"title\": \"DT Performance Comparison with 10 Features\", \"$schema\": \"https://vega.github.io/schema/vega-lite/v3.2.1.json\", \"datasets\": {\"data-85f400139517bbc2ac8950ca57029903\": [{\"mean_score\": -128.8, \"std_score\": 5.1146847410177685, \"max_score\": -120.0, \"min_score\": -135.0, \"dt__criterion\": \"gini\", \"dt__max_depth\": 9, \"rfi_fs__n_features_\": 59}, {\"mean_score\": -131.2, \"std_score\": 14.469277798148738, \"max_score\": -107.0, \"min_score\": -144.0, \"dt__criterion\": \"entropy\", \"dt__max_depth\": 8, \"rfi_fs__n_features_\": 59}, {\"mean_score\": -131.6, \"std_score\": 7.631513611335566, \"max_score\": -123.0, \"min_score\": -143.0, \"dt__criterion\": \"gini\", \"dt__max_depth\": 6, \"rfi_fs__n_features_\": 59}, {\"mean_score\": -134.0, \"std_score\": 10.059821071967434, \"max_score\": -115.0, \"min_score\": -145.0, \"dt__criterion\": \"gini\", \"dt__max_depth\": 10, \"rfi_fs__n_features_\": 59}, {\"mean_score\": -134.6, \"std_score\": 12.059850745345068, \"max_score\": -125.0, \"min_score\": -156.0, \"dt__criterion\": \"entropy\", \"dt__max_depth\": 9, \"rfi_fs__n_features_\": 59}, {\"mean_score\": -135.2, \"std_score\": 8.423775875461075, \"max_score\": -122.0, \"min_score\": -147.0, \"dt__criterion\": \"gini\", \"dt__max_depth\": 8, \"rfi_fs__n_features_\": 59}, {\"mean_score\": -136.0, \"std_score\": 6.0332412515993425, \"max_score\": -128.0, \"min_score\": -144.0, \"dt__criterion\": \"entropy\", \"dt__max_depth\": 10, \"rfi_fs__n_features_\": 59}, {\"mean_score\": -136.0, \"std_score\": 5.656854249492381, \"max_score\": -126.0, \"min_score\": -143.0, \"dt__criterion\": \"gini\", \"dt__max_depth\": 7, \"rfi_fs__n_features_\": 59}, {\"mean_score\": -144.4, \"std_score\": 15.781001235663089, \"max_score\": -118.0, \"min_score\": -163.0, \"dt__criterion\": \"entropy\", \"dt__max_depth\": 7, \"rfi_fs__n_features_\": 59}, {\"mean_score\": -145.8, \"std_score\": 19.009471323527123, \"max_score\": -132.0, \"min_score\": -183.0, \"dt__criterion\": \"gini\", \"dt__max_depth\": 5, \"rfi_fs__n_features_\": 59}, {\"mean_score\": -149.4, \"std_score\": 17.01293625450939, \"max_score\": -132.0, \"min_score\": -180.0, \"dt__criterion\": \"gini\", \"dt__max_depth\": 4, \"rfi_fs__n_features_\": 59}, {\"mean_score\": -149.8, \"std_score\": 16.485144827995903, \"max_score\": -135.0, \"min_score\": -179.0, \"dt__criterion\": \"entropy\", \"dt__max_depth\": 5, \"rfi_fs__n_features_\": 59}, {\"mean_score\": -150.8, \"std_score\": 18.616122045152157, \"max_score\": -134.0, \"min_score\": -184.0, \"dt__criterion\": \"entropy\", \"dt__max_depth\": 6, \"rfi_fs__n_features_\": 59}, {\"mean_score\": -152.0, \"std_score\": 21.2602916254693, \"max_score\": -135.0, \"min_score\": -193.0, \"dt__criterion\": \"entropy\", \"dt__max_depth\": 4, \"rfi_fs__n_features_\": 59}, {\"mean_score\": -162.4, \"std_score\": 17.984437717093076, \"max_score\": -141.0, \"min_score\": -194.0, \"dt__criterion\": \"entropy\", \"dt__max_depth\": 3, \"rfi_fs__n_features_\": 59}, {\"mean_score\": -163.4, \"std_score\": 21.425218785347326, \"max_score\": -136.0, \"min_score\": -201.0, \"dt__criterion\": \"gini\", \"dt__max_depth\": 3, \"rfi_fs__n_features_\": 59}]}};\n",
       "var opt = {};\n",
       "var type = \"vega-lite\";\n",
       "var id = \"6eda45e2-1cdc-4bb5-87c1-60918aaeb017\";\n",
       "\n",
       "var output_area = this;\n",
       "\n",
       "require([\"nbextensions/jupyter-vega/index\"], function(vega) {\n",
       "  var target = document.createElement(\"div\");\n",
       "  target.id = id;\n",
       "  target.className = \"vega-embed\";\n",
       "\n",
       "  var style = document.createElement(\"style\");\n",
       "  style.textContent = [\n",
       "    \".vega-embed .error p {\",\n",
       "    \"  color: firebrick;\",\n",
       "    \"  font-size: 14px;\",\n",
       "    \"}\",\n",
       "  ].join(\"\\\\n\");\n",
       "\n",
       "  // element is a jQuery wrapped DOM element inside the output area\n",
       "  // see http://ipython.readthedocs.io/en/stable/api/generated/\\\n",
       "  // IPython.display.html#IPython.display.Javascript.__init__\n",
       "  element[0].appendChild(target);\n",
       "  element[0].appendChild(style);\n",
       "\n",
       "  vega.render(\"#\" + id, spec, type, opt, output_area);\n",
       "}, function (err) {\n",
       "  if (err.requireType !== \"scripterror\") {\n",
       "    throw(err);\n",
       "  }\n",
       "});\n"
      ],
      "text/plain": [
       "<vega.vegalite.VegaLite at 0x113b38198>"
      ]
     },
     "metadata": {
      "jupyter-vega": "#6eda45e2-1cdc-4bb5-87c1-60918aaeb017"
     },
     "output_type": "display_data"
    },
    {
     "data": {
      "text/plain": []
     },
     "execution_count": 33,
     "metadata": {},
     "output_type": "execute_result"
    },
    {
     "data": {
      "image/png": "[encoded data removed]"
     },
     "metadata": {
      "jupyter-vega": "#6eda45e2-1cdc-4bb5-87c1-60918aaeb017"
     },
     "output_type": "display_data"
    }
   ],
   "source": [
    "results_DT = get_search_results(gs_pipe_DT)\n",
    "\n",
    "results_DT_10_features = results_DT[results_DT['rfi_fs__n_features_'] == 59.0]\n",
    "\n",
    "alt.Chart(results_DT_10_features, \n",
    "          title='DT Performance Comparison with 10 Features'\n",
    "         ).mark_line(point=True).encode(\n",
    "    alt.X('dt__max_depth', title='Maximum depth'),\n",
    "    alt.Y('mean_score', title='Mean Cost Score', scale=alt.Scale(zero=False)),\n",
    "    alt.Color('dt__criterion:N', title='criterion')\n",
    ")"
   ]
  },
  {
   "cell_type": "code",
   "execution_count": 58,
   "metadata": {},
   "outputs": [
    {
     "data": {
      "text/html": [
       "<div>\n",
       "<style scoped>\n",
       "    .dataframe tbody tr th:only-of-type {\n",
       "        vertical-align: middle;\n",
       "    }\n",
       "\n",
       "    .dataframe tbody tr th {\n",
       "        vertical-align: top;\n",
       "    }\n",
       "\n",
       "    .dataframe thead th {\n",
       "        text-align: right;\n",
       "    }\n",
       "</style>\n",
       "<table border=\"1\" class=\"dataframe\">\n",
       "  <thead>\n",
       "    <tr style=\"text-align: right;\">\n",
       "      <th></th>\n",
       "      <th>mean_score</th>\n",
       "      <th>std_score</th>\n",
       "      <th>max_score</th>\n",
       "      <th>min_score</th>\n",
       "      <th>dt__criterion</th>\n",
       "      <th>dt__max_depth</th>\n",
       "      <th>rfi_fs__n_features_</th>\n",
       "    </tr>\n",
       "  </thead>\n",
       "  <tbody>\n",
       "    <tr>\n",
       "      <th>27</th>\n",
       "      <td>-128.8</td>\n",
       "      <td>5.11468</td>\n",
       "      <td>-120</td>\n",
       "      <td>-135</td>\n",
       "      <td>gini</td>\n",
       "      <td>9</td>\n",
       "      <td>59</td>\n",
       "    </tr>\n",
       "    <tr>\n",
       "      <th>55</th>\n",
       "      <td>-131.2</td>\n",
       "      <td>14.4693</td>\n",
       "      <td>-107</td>\n",
       "      <td>-144</td>\n",
       "      <td>entropy</td>\n",
       "      <td>8</td>\n",
       "      <td>59</td>\n",
       "    </tr>\n",
       "    <tr>\n",
       "      <th>15</th>\n",
       "      <td>-131.6</td>\n",
       "      <td>7.63151</td>\n",
       "      <td>-123</td>\n",
       "      <td>-143</td>\n",
       "      <td>gini</td>\n",
       "      <td>6</td>\n",
       "      <td>59</td>\n",
       "    </tr>\n",
       "    <tr>\n",
       "      <th>28</th>\n",
       "      <td>-131.6</td>\n",
       "      <td>21.6942</td>\n",
       "      <td>-91</td>\n",
       "      <td>-148</td>\n",
       "      <td>gini</td>\n",
       "      <td>10</td>\n",
       "      <td>10</td>\n",
       "    </tr>\n",
       "    <tr>\n",
       "      <th>31</th>\n",
       "      <td>-134</td>\n",
       "      <td>10.0598</td>\n",
       "      <td>-115</td>\n",
       "      <td>-145</td>\n",
       "      <td>gini</td>\n",
       "      <td>10</td>\n",
       "      <td>59</td>\n",
       "    </tr>\n",
       "  </tbody>\n",
       "</table>\n",
       "</div>"
      ],
      "text/plain": [
       "   mean_score std_score max_score min_score dt__criterion dt__max_depth  \\\n",
       "27     -128.8   5.11468      -120      -135          gini             9   \n",
       "55     -131.2   14.4693      -107      -144       entropy             8   \n",
       "15     -131.6   7.63151      -123      -143          gini             6   \n",
       "28     -131.6   21.6942       -91      -148          gini            10   \n",
       "31       -134   10.0598      -115      -145          gini            10   \n",
       "\n",
       "   rfi_fs__n_features_  \n",
       "27                  59  \n",
       "55                  59  \n",
       "15                  59  \n",
       "28                  10  \n",
       "31                  59  "
      ]
     },
     "execution_count": 58,
     "metadata": {},
     "output_type": "execute_result"
    }
   ],
   "source": [
    "results_DT = get_search_results(gs_pipe_DT)\n",
    "results_DT.head()"
   ]
  },
  {
   "cell_type": "markdown",
   "metadata": {},
   "source": [
    "According to the table above, the decision tree model with only 10 features selected (mean score = -132) is almost as good as the one use 59 features (mean score = -129).    "
   ]
  },
  {
   "cell_type": "markdown",
   "metadata": {},
   "source": [
    "### Further Parameter Tuning\n",
    "We observe the optimal value of maximum depth hyperparameter is at the end of search space. Therefore, we try a higher value to make sure that we don't miss any better output.  "
   ]
  },
  {
   "cell_type": "code",
   "execution_count": 52,
   "metadata": {},
   "outputs": [
    {
     "name": "stdout",
     "output_type": "stream",
     "text": [
      "Fitting 5 folds for each of 224 candidates, totalling 1120 fits\n"
     ]
    },
    {
     "name": "stderr",
     "output_type": "stream",
     "text": [
      "[Parallel(n_jobs=1)]: Using backend SequentialBackend with 1 concurrent workers.\n",
      "[Parallel(n_jobs=1)]: Done 1120 out of 1120 | elapsed:  1.8min finished\n",
      "/Users/ivylin/anaconda3/lib/python3.6/site-packages/sklearn/model_selection/_search.py:813: DeprecationWarning: The default of the `iid` parameter will change from True to False in version 0.22 and will be removed in 0.24. This will change numeric results when test-set sizes are unequal.\n",
      "  DeprecationWarning)\n"
     ]
    },
    {
     "data": {
      "text/plain": [
       "GridSearchCV(cv=StratifiedKFold(n_splits=5, random_state=43, shuffle=False),\n",
       "             error_score='raise-deprecating',\n",
       "             estimator=Pipeline(memory=None,\n",
       "                                steps=[('rfi_fs',\n",
       "                                        RFIFeatureSelector(n_features_=10)),\n",
       "                                       ('dt',\n",
       "                                        DecisionTreeClassifier(class_weight=None,\n",
       "                                                               criterion='gini',\n",
       "                                                               max_depth=None,\n",
       "                                                               max_features=None,\n",
       "                                                               max_leaf_nodes=None,\n",
       "                                                               min_impurity_decrease=0.0,\n",
       "                                                               min_impurity_spli...\n",
       "                                                               splitter='best'))],\n",
       "                                verbose=False),\n",
       "             iid='warn', n_jobs=None,\n",
       "             param_grid={'dt__criterion': ['gini', 'entropy'],\n",
       "                         'dt__max_depth': [3, 4, 5, 6, 7, 8, 9, 10, 11, 12, 13,\n",
       "                                           14, 15, 16, 17, 18, 19, 20, 21, 22,\n",
       "                                           23, 24, 25, 26, 27, 28, 29, 30],\n",
       "                         'rfi_fs__n_features_': [10, 20, 30, 59]},\n",
       "             pre_dispatch='2*n_jobs', refit=True, return_train_score=False,\n",
       "             scoring=make_scorer(cost_score_func, greater_is_better=False),\n",
       "             verbose=1)"
      ]
     },
     "execution_count": 52,
     "metadata": {},
     "output_type": "execute_result"
    }
   ],
   "source": [
    "pipe_DT_2 = Pipeline(steps = [('rfi_fs', RFIFeatureSelector()),\n",
    "                    ('dt', DecisionTreeClassifier())\n",
    "                    ])\n",
    "\n",
    "para_pipe_DT_2 = {'rfi_fs__n_features_': [10, 20, 30, Data.shape[1]],\n",
    "               'dt__max_depth': list(range(3,31)),\n",
    "               'dt__criterion': ['gini', 'entropy']}\n",
    "                    \n",
    "gs_pipe_DT_2 = GridSearchCV(estimator = pipe_DT_2,\n",
    "                         param_grid = para_pipe_DT_2, \n",
    "                         cv = cv_method,\n",
    "                         refit = True,\n",
    "                         scoring = cost_score,\n",
    "                         verbose = 1)\n",
    "\n",
    "gs_pipe_DT_2.fit(D_train, t_train)"
   ]
  },
  {
   "cell_type": "code",
   "execution_count": 53,
   "metadata": {},
   "outputs": [
    {
     "data": {
      "text/plain": [
       "{'dt__criterion': 'gini', 'dt__max_depth': 22, 'rfi_fs__n_features_': 59}"
      ]
     },
     "execution_count": 53,
     "metadata": {},
     "output_type": "execute_result"
    }
   ],
   "source": [
    "gs_pipe_DT_2.best_params_"
   ]
  },
  {
   "cell_type": "code",
   "execution_count": 54,
   "metadata": {},
   "outputs": [
    {
     "data": {
      "text/plain": [
       "-121.39628040057225"
      ]
     },
     "execution_count": 54,
     "metadata": {},
     "output_type": "execute_result"
    }
   ],
   "source": [
    "gs_pipe_DT_2.best_score_"
   ]
  },
  {
   "cell_type": "code",
   "execution_count": 55,
   "metadata": {},
   "outputs": [
    {
     "data": {
      "application/javascript": [
       "var spec = {\"config\": {\"view\": {\"width\": 400, \"height\": 300}, \"mark\": {\"tooltip\": null}}, \"data\": {\"name\": \"data-95db86cff7a2dec2189c654db5e1e700\"}, \"mark\": {\"type\": \"line\", \"point\": true}, \"encoding\": {\"color\": {\"type\": \"nominal\", \"field\": \"dt__criterion\", \"title\": \"criterion\"}, \"x\": {\"type\": \"quantitative\", \"field\": \"dt__max_depth\", \"title\": \"Maximum depth\"}, \"y\": {\"type\": \"quantitative\", \"field\": \"mean_score\", \"scale\": {\"zero\": false}, \"title\": \"Mean Cost Score\"}}, \"title\": \"DT Performance Comparison with 10 Features - extended\", \"$schema\": \"https://vega.github.io/schema/vega-lite/v3.2.1.json\", \"datasets\": {\"data-95db86cff7a2dec2189c654db5e1e700\": [{\"mean_score\": -121.4, \"std_score\": 4.963869458396343, \"max_score\": -112.0, \"min_score\": -126.0, \"dt__criterion\": \"gini\", \"dt__max_depth\": 22, \"rfi_fs__n_features_\": 59}, {\"mean_score\": -124.2, \"std_score\": 8.541662601625049, \"max_score\": -114.0, \"min_score\": -140.0, \"dt__criterion\": \"gini\", \"dt__max_depth\": 18, \"rfi_fs__n_features_\": 59}, {\"mean_score\": -124.8, \"std_score\": 17.31357848626332, \"max_score\": -102.0, \"min_score\": -154.0, \"dt__criterion\": \"gini\", \"dt__max_depth\": 19, \"rfi_fs__n_features_\": 59}, {\"mean_score\": -126.8, \"std_score\": 12.82809416865966, \"max_score\": -108.0, \"min_score\": -146.0, \"dt__criterion\": \"gini\", \"dt__max_depth\": 13, \"rfi_fs__n_features_\": 59}, {\"mean_score\": -127.4, \"std_score\": 13.001538370516005, \"max_score\": -113.0, \"min_score\": -144.0, \"dt__criterion\": \"gini\", \"dt__max_depth\": 23, \"rfi_fs__n_features_\": 59}, {\"mean_score\": -128.2, \"std_score\": 5.564171097297422, \"max_score\": -119.0, \"min_score\": -134.0, \"dt__criterion\": \"entropy\", \"dt__max_depth\": 24, \"rfi_fs__n_features_\": 59}, {\"mean_score\": -128.2, \"std_score\": 6.273754856543249, \"max_score\": -122.0, \"min_score\": -140.0, \"dt__criterion\": \"gini\", \"dt__max_depth\": 15, \"rfi_fs__n_features_\": 59}, {\"mean_score\": -128.4, \"std_score\": 11.324310133513652, \"max_score\": -109.0, \"min_score\": -138.0, \"dt__criterion\": \"gini\", \"dt__max_depth\": 21, \"rfi_fs__n_features_\": 59}, {\"mean_score\": -129.0, \"std_score\": 7.042726744663604, \"max_score\": -118.0, \"min_score\": -138.0, \"dt__criterion\": \"entropy\", \"dt__max_depth\": 28, \"rfi_fs__n_features_\": 59}, {\"mean_score\": -129.4, \"std_score\": 10.744300814850634, \"max_score\": -111.0, \"min_score\": -141.0, \"dt__criterion\": \"entropy\", \"dt__max_depth\": 8, \"rfi_fs__n_features_\": 59}, {\"mean_score\": -129.6, \"std_score\": 9.156418513807678, \"max_score\": -115.0, \"min_score\": -143.0, \"dt__criterion\": \"gini\", \"dt__max_depth\": 27, \"rfi_fs__n_features_\": 59}, {\"mean_score\": -129.8, \"std_score\": 13.452137376640188, \"max_score\": -116.0, \"min_score\": -154.0, \"dt__criterion\": \"entropy\", \"dt__max_depth\": 16, \"rfi_fs__n_features_\": 59}, {\"mean_score\": -130.0, \"std_score\": 8.87693640846886, \"max_score\": -117.0, \"min_score\": -139.0, \"dt__criterion\": \"gini\", \"dt__max_depth\": 28, \"rfi_fs__n_features_\": 59}, {\"mean_score\": -130.0, \"std_score\": 8.221921916437786, \"max_score\": -119.0, \"min_score\": -144.0, \"dt__criterion\": \"entropy\", \"dt__max_depth\": 14, \"rfi_fs__n_features_\": 59}, {\"mean_score\": -130.2, \"std_score\": 8.588364221433554, \"max_score\": -122.0, \"min_score\": -144.0, \"dt__criterion\": \"entropy\", \"dt__max_depth\": 9, \"rfi_fs__n_features_\": 59}, {\"mean_score\": -130.2, \"std_score\": 11.320777358467925, \"max_score\": -116.0, \"min_score\": -146.0, \"dt__criterion\": \"entropy\", \"dt__max_depth\": 18, \"rfi_fs__n_features_\": 59}, {\"mean_score\": -130.4, \"std_score\": 9.178235124467014, \"max_score\": -115.0, \"min_score\": -140.0, \"dt__criterion\": \"entropy\", \"dt__max_depth\": 11, \"rfi_fs__n_features_\": 59}, {\"mean_score\": -131.0, \"std_score\": 11.781341180018513, \"max_score\": -112.0, \"min_score\": -143.0, \"dt__criterion\": \"entropy\", \"dt__max_depth\": 27, \"rfi_fs__n_features_\": 59}, {\"mean_score\": -131.0, \"std_score\": 16.994116628998402, \"max_score\": -114.0, \"min_score\": -160.0, \"dt__criterion\": \"gini\", \"dt__max_depth\": 26, \"rfi_fs__n_features_\": 59}, {\"mean_score\": -131.4, \"std_score\": 17.362027531368565, \"max_score\": -111.0, \"min_score\": -159.0, \"dt__criterion\": \"gini\", \"dt__max_depth\": 20, \"rfi_fs__n_features_\": 59}, {\"mean_score\": -131.4, \"std_score\": 14.840485167271318, \"max_score\": -109.0, \"min_score\": -155.0, \"dt__criterion\": \"entropy\", \"dt__max_depth\": 23, \"rfi_fs__n_features_\": 59}, {\"mean_score\": -131.6, \"std_score\": 6.770524351924302, \"max_score\": -120.0, \"min_score\": -141.0, \"dt__criterion\": \"entropy\", \"dt__max_depth\": 13, \"rfi_fs__n_features_\": 59}, {\"mean_score\": -132.0, \"std_score\": 11.454256850621082, \"max_score\": -113.0, \"min_score\": -149.0, \"dt__criterion\": \"entropy\", \"dt__max_depth\": 12, \"rfi_fs__n_features_\": 59}, {\"mean_score\": -132.2, \"std_score\": 5.878775382679627, \"max_score\": -122.0, \"min_score\": -140.0, \"dt__criterion\": \"entropy\", \"dt__max_depth\": 25, \"rfi_fs__n_features_\": 59}, {\"mean_score\": -132.2, \"std_score\": 10.457533169921097, \"max_score\": -119.0, \"min_score\": -147.0, \"dt__criterion\": \"gini\", \"dt__max_depth\": 12, \"rfi_fs__n_features_\": 59}, {\"mean_score\": -132.2, \"std_score\": 17.186040847152668, \"max_score\": -111.0, \"min_score\": -156.0, \"dt__criterion\": \"gini\", \"dt__max_depth\": 30, \"rfi_fs__n_features_\": 59}, {\"mean_score\": -132.2, \"std_score\": 12.82809416865966, \"max_score\": -116.0, \"min_score\": -149.0, \"dt__criterion\": \"gini\", \"dt__max_depth\": 14, \"rfi_fs__n_features_\": 59}, {\"mean_score\": -132.4, \"std_score\": 10.011992808627062, \"max_score\": -120.0, \"min_score\": -148.0, \"dt__criterion\": \"entropy\", \"dt__max_depth\": 26, \"rfi_fs__n_features_\": 59}, {\"mean_score\": -132.4, \"std_score\": 6.974238309665077, \"max_score\": -127.0, \"min_score\": -145.0, \"dt__criterion\": \"entropy\", \"dt__max_depth\": 15, \"rfi_fs__n_features_\": 59}, {\"mean_score\": -132.6, \"std_score\": 8.593020423576334, \"max_score\": -125.0, \"min_score\": -145.0, \"dt__criterion\": \"gini\", \"dt__max_depth\": 10, \"rfi_fs__n_features_\": 59}, {\"mean_score\": -132.6, \"std_score\": 18.67190402717409, \"max_score\": -110.0, \"min_score\": -166.0, \"dt__criterion\": \"gini\", \"dt__max_depth\": 24, \"rfi_fs__n_features_\": 59}, {\"mean_score\": -132.8, \"std_score\": 5.775811631277461, \"max_score\": -125.0, \"min_score\": -140.0, \"dt__criterion\": \"entropy\", \"dt__max_depth\": 17, \"rfi_fs__n_features_\": 59}, {\"mean_score\": -133.0, \"std_score\": 3.3466401061363023, \"max_score\": -129.0, \"min_score\": -137.0, \"dt__criterion\": \"entropy\", \"dt__max_depth\": 30, \"rfi_fs__n_features_\": 59}, {\"mean_score\": -133.0, \"std_score\": 10.276186062932103, \"max_score\": -124.0, \"min_score\": -152.0, \"dt__criterion\": \"entropy\", \"dt__max_depth\": 20, \"rfi_fs__n_features_\": 59}, {\"mean_score\": -133.4, \"std_score\": 7.863841300534999, \"max_score\": -118.0, \"min_score\": -140.0, \"dt__criterion\": \"gini\", \"dt__max_depth\": 16, \"rfi_fs__n_features_\": 59}, {\"mean_score\": -133.4, \"std_score\": 5.4258639865002145, \"max_score\": -129.0, \"min_score\": -144.0, \"dt__criterion\": \"gini\", \"dt__max_depth\": 9, \"rfi_fs__n_features_\": 59}, {\"mean_score\": -133.8, \"std_score\": 6.9397406291589885, \"max_score\": -120.0, \"min_score\": -138.0, \"dt__criterion\": \"entropy\", \"dt__max_depth\": 19, \"rfi_fs__n_features_\": 59}, {\"mean_score\": -133.8, \"std_score\": 10.684568311354464, \"max_score\": -119.0, \"min_score\": -150.0, \"dt__criterion\": \"gini\", \"dt__max_depth\": 11, \"rfi_fs__n_features_\": 59}, {\"mean_score\": -134.0, \"std_score\": 6.324555320336759, \"max_score\": -128.0, \"min_score\": -145.0, \"dt__criterion\": \"entropy\", \"dt__max_depth\": 21, \"rfi_fs__n_features_\": 59}, {\"mean_score\": -134.2, \"std_score\": 5.912698199637793, \"max_score\": -129.0, \"min_score\": -145.0, \"dt__criterion\": \"entropy\", \"dt__max_depth\": 22, \"rfi_fs__n_features_\": 59}, {\"mean_score\": -134.8, \"std_score\": 7.249827584156743, \"max_score\": -124.0, \"min_score\": -145.0, \"dt__criterion\": \"gini\", \"dt__max_depth\": 6, \"rfi_fs__n_features_\": 59}, {\"mean_score\": -135.4, \"std_score\": 6.8, \"max_score\": -122.0, \"min_score\": -141.0, \"dt__criterion\": \"gini\", \"dt__max_depth\": 17, \"rfi_fs__n_features_\": 59}, {\"mean_score\": -136.2, \"std_score\": 11.702991070662234, \"max_score\": -126.0, \"min_score\": -151.0, \"dt__criterion\": \"gini\", \"dt__max_depth\": 25, \"rfi_fs__n_features_\": 59}, {\"mean_score\": -136.4, \"std_score\": 9.604165762834374, \"max_score\": -121.0, \"min_score\": -151.0, \"dt__criterion\": \"entropy\", \"dt__max_depth\": 10, \"rfi_fs__n_features_\": 59}, {\"mean_score\": -138.4, \"std_score\": 8.187795796183488, \"max_score\": -128.0, \"min_score\": -153.0, \"dt__criterion\": \"entropy\", \"dt__max_depth\": 29, \"rfi_fs__n_features_\": 59}, {\"mean_score\": -139.0, \"std_score\": 13.16054710108968, \"max_score\": -122.0, \"min_score\": -153.0, \"dt__criterion\": \"gini\", \"dt__max_depth\": 8, \"rfi_fs__n_features_\": 59}, {\"mean_score\": -139.2, \"std_score\": 11.285388783732706, \"max_score\": -123.0, \"min_score\": -151.0, \"dt__criterion\": \"gini\", \"dt__max_depth\": 29, \"rfi_fs__n_features_\": 59}, {\"mean_score\": -142.8, \"std_score\": 6.43117407632541, \"max_score\": -131.0, \"min_score\": -149.0, \"dt__criterion\": \"gini\", \"dt__max_depth\": 7, \"rfi_fs__n_features_\": 59}, {\"mean_score\": -144.0, \"std_score\": 12.083045973594572, \"max_score\": -124.0, \"min_score\": -161.0, \"dt__criterion\": \"entropy\", \"dt__max_depth\": 7, \"rfi_fs__n_features_\": 59}, {\"mean_score\": -148.8, \"std_score\": 19.20833152566875, \"max_score\": -137.0, \"min_score\": -187.0, \"dt__criterion\": \"gini\", \"dt__max_depth\": 5, \"rfi_fs__n_features_\": 59}, {\"mean_score\": -149.8, \"std_score\": 20.67268729507608, \"max_score\": -124.0, \"min_score\": -185.0, \"dt__criterion\": \"entropy\", \"dt__max_depth\": 6, \"rfi_fs__n_features_\": 59}, {\"mean_score\": -150.0, \"std_score\": 17.07629936490925, \"max_score\": -135.0, \"min_score\": -180.0, \"dt__criterion\": \"entropy\", \"dt__max_depth\": 5, \"rfi_fs__n_features_\": 59}, {\"mean_score\": -151.2, \"std_score\": 17.735839421916292, \"max_score\": -132.0, \"min_score\": -182.0, \"dt__criterion\": \"gini\", \"dt__max_depth\": 4, \"rfi_fs__n_features_\": 59}, {\"mean_score\": -153.4, \"std_score\": 21.11492363235065, \"max_score\": -135.0, \"min_score\": -193.0, \"dt__criterion\": \"entropy\", \"dt__max_depth\": 4, \"rfi_fs__n_features_\": 59}, {\"mean_score\": -162.4, \"std_score\": 17.984437717093076, \"max_score\": -141.0, \"min_score\": -194.0, \"dt__criterion\": \"entropy\", \"dt__max_depth\": 3, \"rfi_fs__n_features_\": 59}, {\"mean_score\": -163.4, \"std_score\": 21.425218785347326, \"max_score\": -136.0, \"min_score\": -201.0, \"dt__criterion\": \"gini\", \"dt__max_depth\": 3, \"rfi_fs__n_features_\": 59}]}};\n",
       "var opt = {};\n",
       "var type = \"vega-lite\";\n",
       "var id = \"61bcdd42-9a73-45e1-b882-4a9dfc5c6b75\";\n",
       "\n",
       "var output_area = this;\n",
       "\n",
       "require([\"nbextensions/jupyter-vega/index\"], function(vega) {\n",
       "  var target = document.createElement(\"div\");\n",
       "  target.id = id;\n",
       "  target.className = \"vega-embed\";\n",
       "\n",
       "  var style = document.createElement(\"style\");\n",
       "  style.textContent = [\n",
       "    \".vega-embed .error p {\",\n",
       "    \"  color: firebrick;\",\n",
       "    \"  font-size: 14px;\",\n",
       "    \"}\",\n",
       "  ].join(\"\\\\n\");\n",
       "\n",
       "  // element is a jQuery wrapped DOM element inside the output area\n",
       "  // see http://ipython.readthedocs.io/en/stable/api/generated/\\\n",
       "  // IPython.display.html#IPython.display.Javascript.__init__\n",
       "  element[0].appendChild(target);\n",
       "  element[0].appendChild(style);\n",
       "\n",
       "  vega.render(\"#\" + id, spec, type, opt, output_area);\n",
       "}, function (err) {\n",
       "  if (err.requireType !== \"scripterror\") {\n",
       "    throw(err);\n",
       "  }\n",
       "});\n"
      ],
      "text/plain": [
       "<vega.vegalite.VegaLite at 0x1130c6cf8>"
      ]
     },
     "metadata": {
      "jupyter-vega": "#61bcdd42-9a73-45e1-b882-4a9dfc5c6b75"
     },
     "output_type": "display_data"
    },
    {
     "data": {
      "text/plain": []
     },
     "execution_count": 55,
     "metadata": {},
     "output_type": "execute_result"
    },
    {
     "data": {
      "image/png": "[encoded data removed]"
     },
     "metadata": {
      "jupyter-vega": "#61bcdd42-9a73-45e1-b882-4a9dfc5c6b75"
     },
     "output_type": "display_data"
    }
   ],
   "source": [
    "results_DT_2 = get_search_results(gs_pipe_DT_2)\n",
    "\n",
    "results_DT_2_10_features = results_DT_2[results_DT_2['rfi_fs__n_features_'] == 59.0]\n",
    "\n",
    "alt.Chart(results_DT_2_10_features, \n",
    "          title='DT Performance Comparison with 10 Features - extended'\n",
    "         ).mark_line(point=True).encode(\n",
    "    alt.X('dt__max_depth', title='Maximum depth'),\n",
    "    alt.Y('mean_score', title='Mean Cost Score', scale=alt.Scale(zero=False)),\n",
    "    alt.Color('dt__criterion:N', title='criterion')\n",
    ")"
   ]
  },
  {
   "cell_type": "markdown",
   "metadata": {},
   "source": [
    "After extending the search boundary, the Decision Tree gives a beter result with cost score = -121. It selects 59 features with gini split criterion and maximun depth of the tree = 22. "
   ]
  },
  {
   "cell_type": "markdown",
   "metadata": {},
   "source": [
    "## Naive Bayes (NB)\n",
    "\n",
    "We adopt a Gaussian Naive Bayes model, since we have features with multi-classes. In hyperparameter tuning, we optimize `var_smoothing` (a variant of Laplace smoothing) as we do not have any prior. We conduct the grid search in the `logspace` (over the powers of 10) from `NumPy`. The search space starts from 10 to $10^{-3}$ with 200 different values, but we perform a random search over only 20 different values (for shorter run times). \n",
    "Since NB has strong normality assumption that each descriptive feature to follow a Gaussian distribution, we will first perform a power transformation before fitting model."
   ]
  },
  {
   "cell_type": "code",
   "execution_count": 43,
   "metadata": {},
   "outputs": [],
   "source": [
    "from sklearn.preprocessing import PowerTransformer\n",
    "Data_transformed = PowerTransformer().fit_transform(D_train)"
   ]
  },
  {
   "cell_type": "code",
   "execution_count": 51,
   "metadata": {},
   "outputs": [
    {
     "name": "stdout",
     "output_type": "stream",
     "text": [
      "Fitting 5 folds for each of 20 candidates, totalling 100 fits\n"
     ]
    },
    {
     "name": "stderr",
     "output_type": "stream",
     "text": [
      "[Parallel(n_jobs=2)]: Using backend LokyBackend with 2 concurrent workers.\n",
      "[Parallel(n_jobs=2)]: Done  58 tasks      | elapsed:    4.3s\n",
      "[Parallel(n_jobs=2)]: Done 100 out of 100 | elapsed:    6.5s finished\n",
      "/Users/ivylin/anaconda3/lib/python3.6/site-packages/sklearn/model_selection/_search.py:813: DeprecationWarning: The default of the `iid` parameter will change from True to False in version 0.22 and will be removed in 0.24. This will change numeric results when test-set sizes are unequal.\n",
      "  DeprecationWarning)\n"
     ]
    },
    {
     "data": {
      "text/plain": [
       "RandomizedSearchCV(cv=StratifiedKFold(n_splits=5, random_state=43, shuffle=False),\n",
       "                   error_score='raise-deprecating',\n",
       "                   estimator=Pipeline(memory=None,\n",
       "                                      steps=[('rfi_fs',\n",
       "                                              RFIFeatureSelector(n_features_=10)),\n",
       "                                             ('nb',\n",
       "                                              GaussianNB(priors=None,\n",
       "                                                         var_smoothing=1e-09))],\n",
       "                                      verbose=False),\n",
       "                   iid='warn', n_iter=20, n_jobs=2,\n",
       "                   param_distributions={'nb__var_smoothing': array([1.0000000...\n",
       "       1.66381689e-03, 1.58856513e-03, 1.51671689e-03, 1.44811823e-03,\n",
       "       1.38262217e-03, 1.32008840e-03, 1.26038293e-03, 1.20337784e-03,\n",
       "       1.14895100e-03, 1.09698580e-03, 1.04737090e-03, 1.00000000e-03]),\n",
       "                                        'rfi_fs__n_features_': [10, 20, 30,\n",
       "                                                                59]},\n",
       "                   pre_dispatch='2*n_jobs', random_state=None, refit=True,\n",
       "                   return_train_score=False,\n",
       "                   scoring=make_scorer(cost_score_func, greater_is_better=False),\n",
       "                   verbose=1)"
      ]
     },
     "execution_count": 51,
     "metadata": {},
     "output_type": "execute_result"
    }
   ],
   "source": [
    "from sklearn.naive_bayes import GaussianNB\n",
    "from sklearn.model_selection import RandomizedSearchCV\n",
    "\n",
    "pipe_NB = Pipeline(steps = [('rfi_fs', RFIFeatureSelector()),\n",
    "                           ('nb', GaussianNB())])\n",
    "\n",
    "para_pipe_NB = {'rfi_fs__n_features_': [10, 20, 30, Data.shape[1]],\n",
    "               'nb__var_smoothing': np.logspace(1,-3,num = 200)}\n",
    "\n",
    "n_iter_search = 20\n",
    "\n",
    "gs_pipe_NB = RandomizedSearchCV(estimator = pipe_NB,\n",
    "                               param_distributions= para_pipe_NB, \n",
    "                               cv = cv_method, \n",
    "                               refit = True,\n",
    "                               n_jobs = 2,\n",
    "                               scoring = cost_score,\n",
    "                               n_iter = n_iter_search,\n",
    "                               verbose = 1)\n",
    "\n",
    "gs_pipe_NB.fit(D_train, t_train)"
   ]
  },
  {
   "cell_type": "code",
   "execution_count": 56,
   "metadata": {},
   "outputs": [
    {
     "data": {
      "text/plain": [
       "{'rfi_fs__n_features_': 59, 'nb__var_smoothing': 0.009658832241158698}"
      ]
     },
     "execution_count": 56,
     "metadata": {},
     "output_type": "execute_result"
    }
   ],
   "source": [
    "gs_pipe_NB.best_params_"
   ]
  },
  {
   "cell_type": "code",
   "execution_count": 59,
   "metadata": {},
   "outputs": [
    {
     "data": {
      "text/plain": [
       "-109.06008583690988"
      ]
     },
     "execution_count": 59,
     "metadata": {},
     "output_type": "execute_result"
    }
   ],
   "source": [
    "gs_pipe_NB.best_score_"
   ]
  },
  {
   "cell_type": "code",
   "execution_count": 61,
   "metadata": {},
   "outputs": [
    {
     "data": {
      "text/html": [
       "<div>\n",
       "<style scoped>\n",
       "    .dataframe tbody tr th:only-of-type {\n",
       "        vertical-align: middle;\n",
       "    }\n",
       "\n",
       "    .dataframe tbody tr th {\n",
       "        vertical-align: top;\n",
       "    }\n",
       "\n",
       "    .dataframe thead th {\n",
       "        text-align: right;\n",
       "    }\n",
       "</style>\n",
       "<table border=\"1\" class=\"dataframe\">\n",
       "  <thead>\n",
       "    <tr style=\"text-align: right;\">\n",
       "      <th></th>\n",
       "      <th>mean_score</th>\n",
       "      <th>std_score</th>\n",
       "      <th>max_score</th>\n",
       "      <th>min_score</th>\n",
       "      <th>rfi_fs__n_features_</th>\n",
       "      <th>nb__var_smoothing</th>\n",
       "    </tr>\n",
       "  </thead>\n",
       "  <tbody>\n",
       "    <tr>\n",
       "      <th>3</th>\n",
       "      <td>-109.0</td>\n",
       "      <td>29.577018</td>\n",
       "      <td>-67.0</td>\n",
       "      <td>-150.0</td>\n",
       "      <td>59.0</td>\n",
       "      <td>0.009659</td>\n",
       "    </tr>\n",
       "    <tr>\n",
       "      <th>14</th>\n",
       "      <td>-111.6</td>\n",
       "      <td>21.777052</td>\n",
       "      <td>-84.0</td>\n",
       "      <td>-141.0</td>\n",
       "      <td>59.0</td>\n",
       "      <td>0.117585</td>\n",
       "    </tr>\n",
       "    <tr>\n",
       "      <th>12</th>\n",
       "      <td>-113.0</td>\n",
       "      <td>6.418723</td>\n",
       "      <td>-105.0</td>\n",
       "      <td>-122.0</td>\n",
       "      <td>10.0</td>\n",
       "      <td>0.013987</td>\n",
       "    </tr>\n",
       "    <tr>\n",
       "      <th>10</th>\n",
       "      <td>-113.8</td>\n",
       "      <td>15.380507</td>\n",
       "      <td>-97.0</td>\n",
       "      <td>-142.0</td>\n",
       "      <td>30.0</td>\n",
       "      <td>0.002643</td>\n",
       "    </tr>\n",
       "    <tr>\n",
       "      <th>6</th>\n",
       "      <td>-113.8</td>\n",
       "      <td>6.112283</td>\n",
       "      <td>-105.0</td>\n",
       "      <td>-122.0</td>\n",
       "      <td>10.0</td>\n",
       "      <td>0.018464</td>\n",
       "    </tr>\n",
       "  </tbody>\n",
       "</table>\n",
       "</div>"
      ],
      "text/plain": [
       "    mean_score  std_score  max_score  min_score  rfi_fs__n_features_  \\\n",
       "3       -109.0  29.577018      -67.0     -150.0                 59.0   \n",
       "14      -111.6  21.777052      -84.0     -141.0                 59.0   \n",
       "12      -113.0   6.418723     -105.0     -122.0                 10.0   \n",
       "10      -113.8  15.380507      -97.0     -142.0                 30.0   \n",
       "6       -113.8   6.112283     -105.0     -122.0                 10.0   \n",
       "\n",
       "    nb__var_smoothing  \n",
       "3            0.009659  \n",
       "14           0.117585  \n",
       "12           0.013987  \n",
       "10           0.002643  \n",
       "6            0.018464  "
      ]
     },
     "execution_count": 61,
     "metadata": {},
     "output_type": "execute_result"
    }
   ],
   "source": [
    "results_NB = get_search_results(gs_pipe_NB)\n",
    "results_NB.head()"
   ]
  },
  {
   "cell_type": "markdown",
   "metadata": {},
   "source": [
    "The Naive Bayes model provide the best score among the three models with cost score = -109."
   ]
  },
  {
   "cell_type": "markdown",
   "metadata": {},
   "source": [
    "#### Visualizing the search results."
   ]
  },
  {
   "cell_type": "code",
   "execution_count": 65,
   "metadata": {},
   "outputs": [
    {
     "data": {
      "application/javascript": [
       "var spec = {\"config\": {\"view\": {\"width\": 400, \"height\": 300}, \"mark\": {\"tooltip\": null}}, \"data\": {\"name\": \"data-ab6b83ffbaa171c04a3cec5df3c3bcfd\"}, \"mark\": {\"type\": \"line\", \"point\": true}, \"encoding\": {\"x\": {\"type\": \"quantitative\", \"field\": \"nb__var_smoothing\", \"title\": \"Var. Smoothing\"}, \"y\": {\"type\": \"quantitative\", \"field\": \"mean_score\", \"scale\": {\"zero\": false}, \"title\": \"AUC Score\"}}, \"title\": \"NB Performance Comparison with 59 Features\", \"$schema\": \"https://vega.github.io/schema/vega-lite/v3.2.1.json\", \"datasets\": {\"data-ab6b83ffbaa171c04a3cec5df3c3bcfd\": [{\"mean_score\": -109.0, \"std_score\": 29.57701810527897, \"max_score\": -67.0, \"min_score\": -150.0, \"rfi_fs__n_features_\": 59.0, \"nb__var_smoothing\": 0.009658832241158698}, {\"mean_score\": -111.6, \"std_score\": 21.77705214210592, \"max_score\": -84.0, \"min_score\": -141.0, \"rfi_fs__n_features_\": 59.0, \"nb__var_smoothing\": 0.1175849554052157}, {\"mean_score\": -117.0, \"std_score\": 12.033287165193059, \"max_score\": -104.0, \"min_score\": -136.0, \"rfi_fs__n_features_\": 59.0, \"nb__var_smoothing\": 0.3739937302478798}, {\"mean_score\": -210.0, \"std_score\": 0.0, \"max_score\": -210.0, \"min_score\": -210.0, \"rfi_fs__n_features_\": 59.0, \"nb__var_smoothing\": 8.309941949353393}]}};\n",
       "var opt = {};\n",
       "var type = \"vega-lite\";\n",
       "var id = \"db3fdd89-d997-4966-b835-b1a3928949b2\";\n",
       "\n",
       "var output_area = this;\n",
       "\n",
       "require([\"nbextensions/jupyter-vega/index\"], function(vega) {\n",
       "  var target = document.createElement(\"div\");\n",
       "  target.id = id;\n",
       "  target.className = \"vega-embed\";\n",
       "\n",
       "  var style = document.createElement(\"style\");\n",
       "  style.textContent = [\n",
       "    \".vega-embed .error p {\",\n",
       "    \"  color: firebrick;\",\n",
       "    \"  font-size: 14px;\",\n",
       "    \"}\",\n",
       "  ].join(\"\\\\n\");\n",
       "\n",
       "  // element is a jQuery wrapped DOM element inside the output area\n",
       "  // see http://ipython.readthedocs.io/en/stable/api/generated/\\\n",
       "  // IPython.display.html#IPython.display.Javascript.__init__\n",
       "  element[0].appendChild(target);\n",
       "  element[0].appendChild(style);\n",
       "\n",
       "  vega.render(\"#\" + id, spec, type, opt, output_area);\n",
       "}, function (err) {\n",
       "  if (err.requireType !== \"scripterror\") {\n",
       "    throw(err);\n",
       "  }\n",
       "});\n"
      ],
      "text/plain": [
       "<vega.vegalite.VegaLite at 0x114c6f828>"
      ]
     },
     "metadata": {
      "jupyter-vega": "#db3fdd89-d997-4966-b835-b1a3928949b2"
     },
     "output_type": "display_data"
    },
    {
     "data": {
      "text/plain": []
     },
     "execution_count": 65,
     "metadata": {},
     "output_type": "execute_result"
    },
    {
     "data": {
      "image/png": "[encoded data removed]"
     },
     "metadata": {
      "jupyter-vega": "#db3fdd89-d997-4966-b835-b1a3928949b2"
     },
     "output_type": "display_data"
    }
   ],
   "source": [
    "results_NB_10_features = results_NB[results_NB['rfi_fs__n_features_'] == 59.0]\n",
    "\n",
    "alt.Chart(results_NB_10_features, \n",
    "          title='NB Performance Comparison with 59 Features'\n",
    "         ).mark_line(point=True).encode(\n",
    "    alt.X('nb__var_smoothing', title='Var. Smoothing'),\n",
    "    alt.Y('mean_score', title='AUC Score', scale=alt.Scale(zero=False))\n",
    ")"
   ]
  },
  {
   "cell_type": "markdown",
   "metadata": {},
   "source": [
    "# Performance Evaluation\n",
    "\n",
    "We have optimized the hyper-parameters for the three classifiers using the training data. Now, we are going to fit the optimized models on the test data using cross validation. To determine the best model, we perform pairwise t-tests to test if the difference between the performance of any two classifiers is statistically significant. Firstly, we perform 10-fold stratified cross-validation on each best model (without any repetitions). Second, we conduct a paired t-test for the AUC score between the following model combinations:\n",
    "\n",
    "* KNN vs. DT,\n",
    "* KNN vs. NB,\n",
    "* DT vs. NB."
   ]
  },
  {
   "cell_type": "code",
   "execution_count": 72,
   "metadata": {},
   "outputs": [
    {
     "name": "stdout",
     "output_type": "stream",
     "text": [
      "KNN cost score:  -28.1\n"
     ]
    }
   ],
   "source": [
    "from sklearn.model_selection import cross_val_score\n",
    "\n",
    "cv_method_ttest = StratifiedKFold(n_splits=10, random_state=123)\n",
    "\n",
    "cv_results_KNN = cross_val_score(estimator=gs_pipe_KNN.best_estimator_,\n",
    "                                 X=D_test,\n",
    "                                 y=t_test, \n",
    "                                 cv=cv_method_ttest, \n",
    "                                 n_jobs=-2,\n",
    "                                 scoring= cost_score)\n",
    "print ( 'KNN cost score: ' , cv_results_KNN.mean() )"
   ]
  },
  {
   "cell_type": "code",
   "execution_count": 73,
   "metadata": {},
   "outputs": [
    {
     "name": "stdout",
     "output_type": "stream",
     "text": [
      "DT cost score:  -31.8\n"
     ]
    }
   ],
   "source": [
    "cv_results_DT = cross_val_score(estimator=gs_pipe_DT_2.best_estimator_,\n",
    "                                X=D_test,\n",
    "                                y=t_test, \n",
    "                                cv=cv_method_ttest, \n",
    "                                n_jobs=-2,\n",
    "                                scoring= cost_score)\n",
    "\n",
    "print ( 'DT cost score: ' , cv_results_DT.mean() )"
   ]
  },
  {
   "cell_type": "code",
   "execution_count": 74,
   "metadata": {},
   "outputs": [
    {
     "name": "stdout",
     "output_type": "stream",
     "text": [
      "NB cost score:  -16.4\n"
     ]
    }
   ],
   "source": [
    "Data_test_transformed = PowerTransformer().fit_transform(D_test)\n",
    "\n",
    "cv_results_NB = cross_val_score(estimator=gs_pipe_NB.best_estimator_,\n",
    "                                X=Data_test_transformed,\n",
    "                                y=t_test, \n",
    "                                cv=cv_method_ttest, \n",
    "                                n_jobs=-2,\n",
    "                                scoring= cost_score)\n",
    "\n",
    "print ( 'NB cost score: ' , cv_results_NB.mean())"
   ]
  },
  {
   "cell_type": "markdown",
   "metadata": {},
   "source": [
    "Since we fixed the same random state to be same during cross-validation, all classifiers were fitted and then tested on exactly the same test data partitions. We use the stats.ttest_rel function from the SciPy module to run the following t-tests on test data."
   ]
  },
  {
   "cell_type": "code",
   "execution_count": 77,
   "metadata": {},
   "outputs": [
    {
     "name": "stdout",
     "output_type": "stream",
     "text": [
      "Ttest_relResult(statistic=1.5953480192808793, pvalue=0.14509879995342212)\n",
      "Ttest_relResult(statistic=-3.9740376520086103, pvalue=0.003234826550168032)\n",
      "Ttest_relResult(statistic=-3.9350870435896095, pvalue=0.0034314450621176474)\n"
     ]
    }
   ],
   "source": [
    "from scipy import stats\n",
    "\n",
    "print(stats.ttest_rel(cv_results_KNN, cv_results_DT))\n",
    "print(stats.ttest_rel(cv_results_KNN,cv_results_NB))\n",
    "print(stats.ttest_rel(cv_results_DT, cv_results_NB))"
   ]
  },
  {
   "cell_type": "markdown",
   "metadata": {},
   "source": [
    "Based on the statistical test, the performance of Naive Bayes has significant difference with both KNN and Decision Tree at a 95% significance level. We conclude that Naive Bayes is statistically the best model in terms of the cost matrix on the test set.    \n"
   ]
  },
  {
   "cell_type": "markdown",
   "metadata": {},
   "source": [
    "\n",
    "Although this data requires a specific cost matrix, it would be beneficial to see other evaluation metrics. "
   ]
  },
  {
   "cell_type": "code",
   "execution_count": 79,
   "metadata": {},
   "outputs": [
    {
     "name": "stdout",
     "output_type": "stream",
     "text": [
      "\n",
      "Classification report for K-Nearest Neighbor\n",
      "              precision    recall  f1-score   support\n",
      "\n",
      "           0       0.51      0.37      0.43        90\n",
      "           1       0.76      0.85      0.80       210\n",
      "\n",
      "    accuracy                           0.70       300\n",
      "   macro avg       0.63      0.61      0.61       300\n",
      "weighted avg       0.68      0.70      0.69       300\n",
      "\n",
      "\n",
      "Classification report for Decision Tree\n",
      "              precision    recall  f1-score   support\n",
      "\n",
      "           0       0.44      0.48      0.46        90\n",
      "           1       0.77      0.74      0.75       210\n",
      "\n",
      "    accuracy                           0.66       300\n",
      "   macro avg       0.60      0.61      0.60       300\n",
      "weighted avg       0.67      0.66      0.66       300\n",
      "\n",
      "\n",
      "Classification report for Naive Bayes\n",
      "              precision    recall  f1-score   support\n",
      "\n",
      "           0       0.39      0.79      0.52        90\n",
      "           1       0.84      0.47      0.60       210\n",
      "\n",
      "    accuracy                           0.56       300\n",
      "   macro avg       0.61      0.63      0.56       300\n",
      "weighted avg       0.70      0.56      0.58       300\n",
      "\n"
     ]
    }
   ],
   "source": [
    "pred_KNN = gs_pipe_KNN.predict(D_test)\n",
    "\n",
    "Data_test_transformed = PowerTransformer().fit_transform(D_test)\n",
    "\n",
    "pred_NB = gs_pipe_NB.predict(Data_test_transformed)\n",
    "\n",
    "pred_DT = gs_pipe_DT_2.predict(D_test)\n",
    "\n",
    "\n",
    "from sklearn import metrics\n",
    "print(\"\\nClassification report for K-Nearest Neighbor\") \n",
    "print(metrics.classification_report(t_test, pred_KNN))\n",
    "\n",
    "print(\"\\nClassification report for Decision Tree\") \n",
    "print(metrics.classification_report(t_test, pred_DT))\n",
    "\n",
    "print(\"\\nClassification report for Naive Bayes\") \n",
    "print(metrics.classification_report(t_test, pred_NB))"
   ]
  },
  {
   "cell_type": "markdown",
   "metadata": {},
   "source": [
    "Since this data is regarding to credit prediction, **false positive** result, that is predicting a bad customer as good is much worse than classifying a good one as bad. Therefore, we shall look at the Precision on the positive target. In the classification report, Naive Bayes still outperform there other models, which aligns with our finding using the customized cost matrix."
   ]
  },
  {
   "cell_type": "markdown",
   "metadata": {},
   "source": [
    "# Limitations\n",
    "\n",
    "Our modelling process has some limitations. First of all, we rank and select the model solely on its predictive performance. In the real world, model interpretability and explainability also play an important role in business context. We may need to take those factors into account in the future.   \n",
    "\n",
    "Also, as this data set does not meet the normality assumption in Naive Bayes model, we utilized a blanket power transformation on the whole training data. A better solution is to build a Gaussian NB and a Bernoulli NB separately on the numerical and dummy descriptive features separately. "
   ]
  },
  {
   "cell_type": "markdown",
   "metadata": {},
   "source": [
    "# Conclusion \n",
    "\n",
    "In this credit classification task, credit amount, age and duration are found to be the most important features based on Random Forest Importance (RFI). For modeling, the Naive Bayes model with 59 features selected RFI provides the best cost score on both of the the training and test data. However, our final model does not actually benefits from feature selection process as the model with optimal parameters selects all fatures in the training set. If the data set scale up in the future, we shall see feature selection has greater effect on the modelling process."
   ]
  },
  {
   "cell_type": "markdown",
   "metadata": {},
   "source": [
    "# References\n",
    "\n",
    "* Kelleher, John D., author, Mac Namee, Brian, & D'Arcy, Aoife. (2015). *Fundamentals of machine learning for predictive data analytics : Algorithms, worked examples, and case studies.* Cambridge, Massachusetts: The MIT Press.\n",
    "\n",
    "\n",
    "* Hofmann H. (1994), UCI Machine Learning Repository: Statlog (German Credit Data) Data Set. Available at https://archive.ics.uci.edu/ml/datasets/statlog+(german+credit+data) [Accessed 2019-04-20]\n",
    "\n",
    "\n",
    "* Scikit-learn machin learning in Python. https://scikit-learn.org [Accessed 2019-05-26]"
   ]
  }
 ],
 "metadata": {
  "kernelspec": {
   "display_name": "Python 3",
   "language": "python",
   "name": "python3"
  },
  "language_info": {
   "codemirror_mode": {
    "name": "ipython",
    "version": 3
   },
   "file_extension": ".py",
   "mimetype": "text/x-python",
   "name": "python",
   "nbconvert_exporter": "python",
   "pygments_lexer": "ipython3",
   "version": "3.6.4"
  }
 },
 "nbformat": 4,
 "nbformat_minor": 2
}
